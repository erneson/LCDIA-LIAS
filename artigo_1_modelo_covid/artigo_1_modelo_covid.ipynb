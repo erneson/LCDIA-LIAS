{
 "cells": [
  {
   "cell_type": "markdown",
   "id": "a81341a5",
   "metadata": {
    "id": "a81341a5"
   },
   "source": [
    "# PROJETO UNIFOR/UFC\n",
    "## Modelo de Mineração de Texto para COVID-19\n",
    "Erik Z. Solha"
   ]
  },
  {
   "cell_type": "markdown",
   "id": "ee7a1daa",
   "metadata": {
    "id": "ee7a1daa"
   },
   "source": [
    "# 1 Carregando módulos"
   ]
  },
  {
   "cell_type": "code",
   "execution_count": 1,
   "id": "9dc2f100",
   "metadata": {
    "executionInfo": {
     "elapsed": 10,
     "status": "ok",
     "timestamp": 1679336377160,
     "user": {
      "displayName": "Erik Zarko",
      "userId": "00935603548463073470"
     },
     "user_tz": 180
    },
    "id": "9dc2f100"
   },
   "outputs": [],
   "source": [
    "import pandas as pd\n",
    "import numpy as np\n",
    "import unidecode\n",
    "import matplotlib.pyplot as plt\n",
    "import datetime as dt\n",
    "import math\n"
   ]
  },
  {
   "cell_type": "markdown",
   "id": "ed2727ad",
   "metadata": {
    "id": "ed2727ad"
   },
   "source": [
    "# 2 Carregando base de atendimento das UPAs"
   ]
  },
  {
   "cell_type": "code",
   "execution_count": 2,
   "id": "9fd3b3fc",
   "metadata": {
    "executionInfo": {
     "elapsed": 292,
     "status": "ok",
     "timestamp": 1679336034501,
     "user": {
      "displayName": "Erik Zarko",
      "userId": "00935603548463073470"
     },
     "user_tz": 180
    },
    "id": "9fd3b3fc"
   },
   "outputs": [],
   "source": [
    "cols = [\"upa\",\"paciente\",\"data_atendimento\",\"hor_chegada\",\"data_classificao_risco\",\n",
    "        \"hora_classificao_risco\",\"data_nascimento\",\"anos\",\"meses\",\"dsc_endereco\",\"dsc_risco\",\n",
    "        \"dsc_queixa\",\"dsc_discriminador\",\"sinais_sintomas_anamnese\",\"cod_cid10\",\"dsc_cid10\",\"dsc_detalhe\"]"
   ]
  },
  {
   "cell_type": "code",
   "execution_count": 3,
   "id": "57f77b8e",
   "metadata": {},
   "outputs": [],
   "source": [
    "path = 'datasets/base_atendimentos_upas_20221128-001.csv'"
   ]
  },
  {
   "cell_type": "code",
   "execution_count": 7,
   "id": "jsIlII5MhLyz",
   "metadata": {
    "executionInfo": {
     "elapsed": 87502,
     "status": "ok",
     "timestamp": 1679336126796,
     "user": {
      "displayName": "Erik Zarko",
      "userId": "00935603548463073470"
     },
     "user_tz": 180
    },
    "id": "jsIlII5MhLyz"
   },
   "outputs": [],
   "source": [
    "df_upas = pd.read_csv(path,\n",
    "                      sep=';',\n",
    "                      header=None,\n",
    "                      names=cols,\n",
    "                      encoding = 'latin1',\n",
    "                      dtype=str)\n",
    "df_upas.drop_duplicates(inplace = True, ignore_index = True)\n",
    "df_upas = df_upas.drop(columns=['paciente', 'dsc_endereco'])"
   ]
  },
  {
   "cell_type": "code",
   "execution_count": 8,
   "id": "08168b28",
   "metadata": {},
   "outputs": [
    {
     "data": {
      "text/html": [
       "<div>\n",
       "<style scoped>\n",
       "    .dataframe tbody tr th:only-of-type {\n",
       "        vertical-align: middle;\n",
       "    }\n",
       "\n",
       "    .dataframe tbody tr th {\n",
       "        vertical-align: top;\n",
       "    }\n",
       "\n",
       "    .dataframe thead th {\n",
       "        text-align: right;\n",
       "    }\n",
       "</style>\n",
       "<table border=\"1\" class=\"dataframe\">\n",
       "  <thead>\n",
       "    <tr style=\"text-align: right;\">\n",
       "      <th></th>\n",
       "      <th>upa</th>\n",
       "      <th>data_atendimento</th>\n",
       "      <th>hor_chegada</th>\n",
       "      <th>data_classificao_risco</th>\n",
       "      <th>hora_classificao_risco</th>\n",
       "      <th>data_nascimento</th>\n",
       "      <th>anos</th>\n",
       "      <th>meses</th>\n",
       "      <th>dsc_risco</th>\n",
       "      <th>dsc_queixa</th>\n",
       "      <th>dsc_discriminador</th>\n",
       "      <th>sinais_sintomas_anamnese</th>\n",
       "      <th>cod_cid10</th>\n",
       "      <th>dsc_cid10</th>\n",
       "      <th>dsc_detalhe</th>\n",
       "    </tr>\n",
       "  </thead>\n",
       "  <tbody>\n",
       "    <tr>\n",
       "      <th>0</th>\n",
       "      <td>UPA PRAIA DO FUTURO</td>\n",
       "      <td>2022/11/28 00:00:00.000</td>\n",
       "      <td>07:59</td>\n",
       "      <td>2022/11/28 00:00:00.000</td>\n",
       "      <td>08:02</td>\n",
       "      <td>1948/04/13 00:00:00.000</td>\n",
       "      <td>74,0</td>\n",
       "      <td>7,0</td>\n",
       "      <td>AMARELO</td>\n",
       "      <td>mal estar hj - encaminhada pelo samu</td>\n",
       "      <td>INICIO SUBITO</td>\n",
       "      <td>PACIENTE TRAZIDA PELO SAMU DO HGF, PORÉM OS ME...</td>\n",
       "      <td>R53</td>\n",
       "      <td>MAL ESTAR, FADIGA</td>\n",
       "      <td>R53 - MAL ESTAR, FADIGA|| ASTENIA SOE| CANSACO...</td>\n",
       "    </tr>\n",
       "    <tr>\n",
       "      <th>1</th>\n",
       "      <td>UPA PRAIA DO FUTURO</td>\n",
       "      <td>2022/11/28 00:00:00.000</td>\n",
       "      <td>07:39</td>\n",
       "      <td>2022/11/28 00:00:00.000</td>\n",
       "      <td>07:43</td>\n",
       "      <td>1990/07/19 00:00:00.000</td>\n",
       "      <td>32,0</td>\n",
       "      <td>4,0</td>\n",
       "      <td>VERDE</td>\n",
       "      <td>odinofagia, febre e coriza hÀ 03 dias</td>\n",
       "      <td>DOR LEVE RECENTE</td>\n",
       "      <td>QP: DOR DE GARGANTA HDA: PACIENTE COM CEFALÉIA...</td>\n",
       "      <td>B34</td>\n",
       "      <td>DOENCAS POR VIRUS, DE LOCALIZACAO NAO ESPECIFI...</td>\n",
       "      <td>B34 - DOENCAS POR VIRUS, DE LOCALIZACAO NAO ES...</td>\n",
       "    </tr>\n",
       "    <tr>\n",
       "      <th>2</th>\n",
       "      <td>UPA PRAIA DO FUTURO</td>\n",
       "      <td>2022/11/28 00:00:00.000</td>\n",
       "      <td>07:20</td>\n",
       "      <td>2022/11/28 00:00:00.000</td>\n",
       "      <td>07:44</td>\n",
       "      <td>1957/01/18 00:00:00.000</td>\n",
       "      <td>65,0</td>\n",
       "      <td>10,0</td>\n",
       "      <td>VERDE</td>\n",
       "      <td>lesão com inflamação e ardor em mid há 1 mês....</td>\n",
       "      <td>INFLAMAÇÃO LOCAL</td>\n",
       "      <td>PACIENTE DIABÉTICA, HÁ 1 MÊS TEVE FERIMENTO EM...</td>\n",
       "      <td>S81</td>\n",
       "      <td>FERIMENTO DA PERNA</td>\n",
       "      <td>S81 - FERIMENTO DA PERNA|||EXCLUI:| AMPUTACAO ...</td>\n",
       "    </tr>\n",
       "    <tr>\n",
       "      <th>3</th>\n",
       "      <td>UPA PRAIA DO FUTURO</td>\n",
       "      <td>2022/11/28 00:00:00.000</td>\n",
       "      <td>07:20</td>\n",
       "      <td>2022/11/28 00:00:00.000</td>\n",
       "      <td>07:30</td>\n",
       "      <td>1957/01/18 00:00:00.000</td>\n",
       "      <td>65,0</td>\n",
       "      <td>10,0</td>\n",
       "      <td>BRANCO</td>\n",
       "      <td>evasão</td>\n",
       "      <td>NÃO INFORMADO</td>\n",
       "      <td>PACIENTE DIABÉTICA, HÁ 1 MÊS TEVE FERIMENTO EM...</td>\n",
       "      <td>S81</td>\n",
       "      <td>FERIMENTO DA PERNA</td>\n",
       "      <td>S81 - FERIMENTO DA PERNA|||EXCLUI:| AMPUTACAO ...</td>\n",
       "    </tr>\n",
       "    <tr>\n",
       "      <th>4</th>\n",
       "      <td>UPA PRAIA DO FUTURO</td>\n",
       "      <td>2022/11/28 00:00:00.000</td>\n",
       "      <td>06:40</td>\n",
       "      <td>2022/11/28 00:00:00.000</td>\n",
       "      <td>06:43</td>\n",
       "      <td>1976/03/12 00:00:00.000</td>\n",
       "      <td>46,0</td>\n",
       "      <td>8,0</td>\n",
       "      <td>VERDE</td>\n",
       "      <td>gripe, tosse há 3d</td>\n",
       "      <td>EVENTO RECENTE</td>\n",
       "      <td>HÁ 4 DIAS VEM APERSENTANDO ODINOFAGIA, , SENSA...</td>\n",
       "      <td>J00</td>\n",
       "      <td>NASOFARINGITE AGUDA [RESFRIADO COMUM]</td>\n",
       "      <td>J00 - NASOFARINGITE AGUDA [RESFRIADO COMUM]|| ...</td>\n",
       "    </tr>\n",
       "  </tbody>\n",
       "</table>\n",
       "</div>"
      ],
      "text/plain": [
       "                   upa         data_atendimento hor_chegada  \\\n",
       "0  UPA PRAIA DO FUTURO  2022/11/28 00:00:00.000       07:59   \n",
       "1  UPA PRAIA DO FUTURO  2022/11/28 00:00:00.000       07:39   \n",
       "2  UPA PRAIA DO FUTURO  2022/11/28 00:00:00.000       07:20   \n",
       "3  UPA PRAIA DO FUTURO  2022/11/28 00:00:00.000       07:20   \n",
       "4  UPA PRAIA DO FUTURO  2022/11/28 00:00:00.000       06:40   \n",
       "\n",
       "    data_classificao_risco hora_classificao_risco          data_nascimento  \\\n",
       "0  2022/11/28 00:00:00.000                  08:02  1948/04/13 00:00:00.000   \n",
       "1  2022/11/28 00:00:00.000                  07:43  1990/07/19 00:00:00.000   \n",
       "2  2022/11/28 00:00:00.000                  07:44  1957/01/18 00:00:00.000   \n",
       "3  2022/11/28 00:00:00.000                  07:30  1957/01/18 00:00:00.000   \n",
       "4  2022/11/28 00:00:00.000                  06:43  1976/03/12 00:00:00.000   \n",
       "\n",
       "   anos meses dsc_risco                                         dsc_queixa  \\\n",
       "0  74,0   7,0   AMARELO               mal estar hj - encaminhada pelo samu   \n",
       "1  32,0   4,0     VERDE              odinofagia, febre e coriza hÀ 03 dias   \n",
       "2  65,0  10,0     VERDE   lesão com inflamação e ardor em mid há 1 mês....   \n",
       "3  65,0  10,0    BRANCO                                             evasão   \n",
       "4  46,0   8,0     VERDE                                 gripe, tosse há 3d   \n",
       "\n",
       "  dsc_discriminador                           sinais_sintomas_anamnese  \\\n",
       "0     INICIO SUBITO  PACIENTE TRAZIDA PELO SAMU DO HGF, PORÉM OS ME...   \n",
       "1  DOR LEVE RECENTE  QP: DOR DE GARGANTA HDA: PACIENTE COM CEFALÉIA...   \n",
       "2  INFLAMAÇÃO LOCAL  PACIENTE DIABÉTICA, HÁ 1 MÊS TEVE FERIMENTO EM...   \n",
       "3     NÃO INFORMADO  PACIENTE DIABÉTICA, HÁ 1 MÊS TEVE FERIMENTO EM...   \n",
       "4    EVENTO RECENTE  HÁ 4 DIAS VEM APERSENTANDO ODINOFAGIA, , SENSA...   \n",
       "\n",
       "  cod_cid10                                          dsc_cid10  \\\n",
       "0       R53                                  MAL ESTAR, FADIGA   \n",
       "1       B34  DOENCAS POR VIRUS, DE LOCALIZACAO NAO ESPECIFI...   \n",
       "2       S81                                 FERIMENTO DA PERNA   \n",
       "3       S81                                 FERIMENTO DA PERNA   \n",
       "4       J00              NASOFARINGITE AGUDA [RESFRIADO COMUM]   \n",
       "\n",
       "                                         dsc_detalhe  \n",
       "0  R53 - MAL ESTAR, FADIGA|| ASTENIA SOE| CANSACO...  \n",
       "1  B34 - DOENCAS POR VIRUS, DE LOCALIZACAO NAO ES...  \n",
       "2  S81 - FERIMENTO DA PERNA|||EXCLUI:| AMPUTACAO ...  \n",
       "3  S81 - FERIMENTO DA PERNA|||EXCLUI:| AMPUTACAO ...  \n",
       "4  J00 - NASOFARINGITE AGUDA [RESFRIADO COMUM]|| ...  "
      ]
     },
     "execution_count": 8,
     "metadata": {},
     "output_type": "execute_result"
    }
   ],
   "source": [
    "df_upas.head()"
   ]
  },
  {
   "cell_type": "code",
   "execution_count": 9,
   "id": "qlDHAlpWaV1O",
   "metadata": {
    "colab": {
     "base_uri": "https://localhost:8080/"
    },
    "executionInfo": {
     "elapsed": 303,
     "status": "ok",
     "timestamp": 1679336132077,
     "user": {
      "displayName": "Erik Zarko",
      "userId": "00935603548463073470"
     },
     "user_tz": 180
    },
    "id": "qlDHAlpWaV1O",
    "outputId": "696a7805-a736-49cf-e23a-dccbf7a12eb6"
   },
   "outputs": [
    {
     "name": "stdout",
     "output_type": "stream",
     "text": [
      "<class 'pandas.core.frame.DataFrame'>\n",
      "RangeIndex: 3327644 entries, 0 to 3327643\n",
      "Data columns (total 15 columns):\n",
      " #   Column                    Dtype \n",
      "---  ------                    ----- \n",
      " 0   upa                       object\n",
      " 1   data_atendimento          object\n",
      " 2   hor_chegada               object\n",
      " 3   data_classificao_risco    object\n",
      " 4   hora_classificao_risco    object\n",
      " 5   data_nascimento           object\n",
      " 6   anos                      object\n",
      " 7   meses                     object\n",
      " 8   dsc_risco                 object\n",
      " 9   dsc_queixa                object\n",
      " 10  dsc_discriminador         object\n",
      " 11  sinais_sintomas_anamnese  object\n",
      " 12  cod_cid10                 object\n",
      " 13  dsc_cid10                 object\n",
      " 14  dsc_detalhe               object\n",
      "dtypes: object(15)\n",
      "memory usage: 380.8+ MB\n"
     ]
    }
   ],
   "source": [
    "df_upas.info()"
   ]
  },
  {
   "cell_type": "code",
   "execution_count": 10,
   "id": "FXIQgu2eZ2XZ",
   "metadata": {
    "colab": {
     "base_uri": "https://localhost:8080/"
    },
    "executionInfo": {
     "elapsed": 283,
     "status": "ok",
     "timestamp": 1679336136318,
     "user": {
      "displayName": "Erik Zarko",
      "userId": "00935603548463073470"
     },
     "user_tz": 180
    },
    "id": "FXIQgu2eZ2XZ",
    "outputId": "aa6c1f3c-6802-4307-d2ad-c1616a3d0322"
   },
   "outputs": [
    {
     "data": {
      "text/plain": [
       "upa\n",
       "UPA JOSE WALTER        428901\n",
       "UPA JANGURUSSU         422751\n",
       "UPA CRISTO REDENTOR    394439\n",
       "UPA CONJUNTO CEARA     373423\n",
       "UPA ITAPERI            358424\n",
       "UPA MESSEJANA          358191\n",
       "UPA CANINDEZINHO       333271\n",
       "UPA PRAIA DO FUTURO    330136\n",
       "UPA AUTRAN NUNES       328108\n",
       "Name: count, dtype: int64"
      ]
     },
     "execution_count": 10,
     "metadata": {},
     "output_type": "execute_result"
    }
   ],
   "source": [
    "df_upas['upa'].value_counts()"
   ]
  },
  {
   "cell_type": "markdown",
   "id": "ec424296",
   "metadata": {
    "id": "ec424296"
   },
   "source": [
    "# 3 Séries Temporais"
   ]
  },
  {
   "cell_type": "markdown",
   "id": "k-16wEUdbnle",
   "metadata": {
    "id": "k-16wEUdbnle"
   },
   "source": [
    "## 3.1 Criação da Série de Suspeitos"
   ]
  },
  {
   "cell_type": "code",
   "execution_count": 32,
   "id": "ec8122b3",
   "metadata": {},
   "outputs": [],
   "source": [
    "def CriaSerieSuspeitos(df):\n",
    "    df['data_atendimento'] = pd.to_datetime(df['data_atendimento'], format='%Y/%m/%d')\n",
    "    existe_suspeita = np.zeros(len(df))\n",
    "\n",
    "    sinonimos = ['falta de ar', 'dispneia', 'desconforto respiratorio']\n",
    "    sintomas = ['febre', 'tosse']\n",
    "\n",
    "    for indice, linha in df.iterrows():\n",
    "        if isinstance(linha['dsc_queixa'], str):\n",
    "            queixa = unidecode.unidecode(linha['dsc_queixa'].lower())\n",
    "            for sinonimo in sinonimos:\n",
    "                if sinonimo in queixa:\n",
    "                    for sintoma in sintomas:\n",
    "                        if sintoma in queixa:\n",
    "                            existe_suspeita[indice] = 1\n",
    "                            break\n",
    "                            \n",
    "    df['existe_suspeita'] = existe_suspeita.astype(int)\n",
    "    suspeitos = df[df['existe_suspeita']==1].sort_values(by='data_atendimento')\n",
    "\n",
    "    suspeitos = suspeitos[['data_atendimento', 'existe_suspeita']].groupby('data_atendimento').size()\n",
    "\n",
    "    return suspeitos"
   ]
  },
  {
   "cell_type": "code",
   "execution_count": 33,
   "id": "wD1eIr6-7MeH",
   "metadata": {
    "id": "wD1eIr6-7MeH"
   },
   "outputs": [],
   "source": [
    "suspeitos = CriaSerieSuspeitos(df_upas)"
   ]
  },
  {
   "cell_type": "code",
   "execution_count": 34,
   "id": "QIca94wYKEMW",
   "metadata": {
    "colab": {
     "base_uri": "https://localhost:8080/"
    },
    "executionInfo": {
     "elapsed": 670,
     "status": "ok",
     "timestamp": 1669740645863,
     "user": {
      "displayName": "ERIK SOLHA",
      "userId": "01134727171186772865"
     },
     "user_tz": 180
    },
    "id": "QIca94wYKEMW",
    "outputId": "d982fa0e-0489-409d-a887-96769eaaf38a"
   },
   "outputs": [
    {
     "data": {
      "text/plain": [
       "data_atendimento\n",
       "2019-01-01     26\n",
       "2019-01-02     36\n",
       "2019-01-03     47\n",
       "2019-01-04     38\n",
       "2019-01-05     40\n",
       "             ... \n",
       "2022-11-24    104\n",
       "2022-11-25     83\n",
       "2022-11-26     81\n",
       "2022-11-27     79\n",
       "2022-11-28     13\n",
       "Length: 1428, dtype: int64"
      ]
     },
     "execution_count": 34,
     "metadata": {},
     "output_type": "execute_result"
    }
   ],
   "source": [
    "suspeitos"
   ]
  },
  {
   "cell_type": "code",
   "execution_count": 36,
   "id": "f676ef2f",
   "metadata": {},
   "outputs": [
    {
     "data": {
      "text/plain": [
       "87536"
      ]
     },
     "execution_count": 36,
     "metadata": {},
     "output_type": "execute_result"
    }
   ],
   "source": [
    "suspeitos.sum()"
   ]
  },
  {
   "cell_type": "markdown",
   "id": "_atgx9q1Dk6W",
   "metadata": {
    "id": "_atgx9q1Dk6W"
   },
   "source": [
    "## 3.2 Carregando dados de casos confirmados\n"
   ]
  },
  {
   "cell_type": "code",
   "execution_count": 12,
   "id": "djc-CPvHDfwU",
   "metadata": {
    "executionInfo": {
     "elapsed": 3,
     "status": "ok",
     "timestamp": 1679337643640,
     "user": {
      "displayName": "Erik Zarko",
      "userId": "00935603548463073470"
     },
     "user_tz": 180
    },
    "id": "djc-CPvHDfwU"
   },
   "outputs": [],
   "source": [
    "path = 'datasets/casos-confirmados-integrasus-2022-07-13-07-30-38.csv'"
   ]
  },
  {
   "cell_type": "code",
   "execution_count": 14,
   "id": "PUBoXyC5D9gw",
   "metadata": {
    "colab": {
     "base_uri": "https://localhost:8080/",
     "height": 560
    },
    "executionInfo": {
     "elapsed": 12672,
     "status": "ok",
     "timestamp": 1679337659422,
     "user": {
      "displayName": "Erik Zarko",
      "userId": "00935603548463073470"
     },
     "user_tz": 180
    },
    "id": "PUBoXyC5D9gw",
    "outputId": "824f13d9-d287-41a9-c97e-f67783ba3c92"
   },
   "outputs": [
    {
     "data": {
      "text/html": [
       "<div>\n",
       "<style scoped>\n",
       "    .dataframe tbody tr th:only-of-type {\n",
       "        vertical-align: middle;\n",
       "    }\n",
       "\n",
       "    .dataframe tbody tr th {\n",
       "        vertical-align: top;\n",
       "    }\n",
       "\n",
       "    .dataframe thead th {\n",
       "        text-align: right;\n",
       "    }\n",
       "</style>\n",
       "<table border=\"1\" class=\"dataframe\">\n",
       "  <thead>\n",
       "    <tr style=\"text-align: right;\">\n",
       "      <th></th>\n",
       "      <th>ID REDCAP</th>\n",
       "      <th>ID ESUS</th>\n",
       "      <th>RESULTADO TESTE ESUS</th>\n",
       "      <th>CLASSIFICAÇÃO FINAL ESUS</th>\n",
       "      <th>ID SIVEP</th>\n",
       "      <th>NOME PACIENTE</th>\n",
       "      <th>DATA NASCIMENTO</th>\n",
       "      <th>SEXO PACIENTE</th>\n",
       "      <th>IBGE</th>\n",
       "      <th>MUNICIPIO PACIENTE</th>\n",
       "      <th>...</th>\n",
       "      <th>BAIRRO PACIENTE</th>\n",
       "      <th>CEP PACIENTE</th>\n",
       "      <th>DATA NOTIFICACAO</th>\n",
       "      <th>DATA INICIO SINTOMAS</th>\n",
       "      <th>LABORATORIO</th>\n",
       "      <th>TIPO TESTE</th>\n",
       "      <th>DATA DA COLETA</th>\n",
       "      <th>DATA RESULTADO EXAME</th>\n",
       "      <th>ID GAL</th>\n",
       "      <th>base</th>\n",
       "    </tr>\n",
       "  </thead>\n",
       "  <tbody>\n",
       "    <tr>\n",
       "      <th>0</th>\n",
       "      <td>NaN</td>\n",
       "      <td>232179088019</td>\n",
       "      <td>Detectável</td>\n",
       "      <td>Confirmado Laboratorial</td>\n",
       "      <td>316203213837</td>\n",
       "      <td>PAULINO ALMEIDA DA SILVA</td>\n",
       "      <td>02/01/1953</td>\n",
       "      <td>MASCULINO</td>\n",
       "      <td>231090</td>\n",
       "      <td>PIQUET CARNEIRO</td>\n",
       "      <td>...</td>\n",
       "      <td>ALTO ALEGRE</td>\n",
       "      <td>63605000</td>\n",
       "      <td>26/04/2021</td>\n",
       "      <td>21/04/2021</td>\n",
       "      <td>LACEN</td>\n",
       "      <td>RT-PCR</td>\n",
       "      <td>27/04/2021</td>\n",
       "      <td>30/04/2021</td>\n",
       "      <td>0</td>\n",
       "      <td>sivep</td>\n",
       "    </tr>\n",
       "    <tr>\n",
       "      <th>1</th>\n",
       "      <td>NaN</td>\n",
       "      <td>NaN</td>\n",
       "      <td>NaN</td>\n",
       "      <td>NaN</td>\n",
       "      <td>315972311285</td>\n",
       "      <td>MANOEL PEREIRA DOS SANTOS\\t</td>\n",
       "      <td>03/04/1924</td>\n",
       "      <td>MASCULINO</td>\n",
       "      <td>230440</td>\n",
       "      <td>FORTALEZA</td>\n",
       "      <td>...</td>\n",
       "      <td>HENRIQUE JORGE</td>\n",
       "      <td>60510415</td>\n",
       "      <td>11/08/2020</td>\n",
       "      <td>01/08/2020</td>\n",
       "      <td>LACEN</td>\n",
       "      <td>RT-PCR</td>\n",
       "      <td>11/08/2020</td>\n",
       "      <td>16/08/2020</td>\n",
       "      <td>100527159</td>\n",
       "      <td>sivep</td>\n",
       "    </tr>\n",
       "    <tr>\n",
       "      <th>2</th>\n",
       "      <td>NaN</td>\n",
       "      <td>232003579151</td>\n",
       "      <td>NaN</td>\n",
       "      <td>NaN</td>\n",
       "      <td>316346666581</td>\n",
       "      <td>VALFREDO RODRIGUES DA SILVA</td>\n",
       "      <td>15/03/1950</td>\n",
       "      <td>MASCULINO</td>\n",
       "      <td>230440</td>\n",
       "      <td>FORTALEZA</td>\n",
       "      <td>...</td>\n",
       "      <td>SALINAS</td>\n",
       "      <td>60810821</td>\n",
       "      <td>11/06/2020</td>\n",
       "      <td>05/06/2020</td>\n",
       "      <td>LACEN</td>\n",
       "      <td>RT-PCR</td>\n",
       "      <td>11/06/2020</td>\n",
       "      <td>14/06/2020</td>\n",
       "      <td>101119001349</td>\n",
       "      <td>sivep</td>\n",
       "    </tr>\n",
       "    <tr>\n",
       "      <th>3</th>\n",
       "      <td>NaN</td>\n",
       "      <td>NaN</td>\n",
       "      <td>NaN</td>\n",
       "      <td>NaN</td>\n",
       "      <td>NaN</td>\n",
       "      <td>FRANCISCO GERALDO NUNES</td>\n",
       "      <td>02/02/1963</td>\n",
       "      <td>MASCULINO</td>\n",
       "      <td>230030</td>\n",
       "      <td>ACOPIARA</td>\n",
       "      <td>...</td>\n",
       "      <td>NOVA ACOPIARA</td>\n",
       "      <td>NaN</td>\n",
       "      <td>NaN</td>\n",
       "      <td>27/03/2021</td>\n",
       "      <td>Outros</td>\n",
       "      <td>RT-PCR</td>\n",
       "      <td>27/03/2021</td>\n",
       "      <td>NaN</td>\n",
       "      <td>1011881.0</td>\n",
       "      <td>gal</td>\n",
       "    </tr>\n",
       "    <tr>\n",
       "      <th>4</th>\n",
       "      <td>NaN</td>\n",
       "      <td>232174251488</td>\n",
       "      <td>NaN</td>\n",
       "      <td>NaN</td>\n",
       "      <td>316179920735</td>\n",
       "      <td>ANA MARIA RODRIGUES FERREIRA</td>\n",
       "      <td>06/07/1966</td>\n",
       "      <td>FEMININO</td>\n",
       "      <td>230440</td>\n",
       "      <td>FORTALEZA</td>\n",
       "      <td>...</td>\n",
       "      <td>VICENTE PINZON</td>\n",
       "      <td>NaN</td>\n",
       "      <td>27/03/2021</td>\n",
       "      <td>27/03/2021</td>\n",
       "      <td>LACEN</td>\n",
       "      <td>RT-PCR</td>\n",
       "      <td>27/03/2021</td>\n",
       "      <td>28/03/2021</td>\n",
       "      <td>10160002636</td>\n",
       "      <td>sivep</td>\n",
       "    </tr>\n",
       "  </tbody>\n",
       "</table>\n",
       "<p>5 rows × 21 columns</p>\n",
       "</div>"
      ],
      "text/plain": [
       "  ID REDCAP       ID ESUS RESULTADO TESTE ESUS CLASSIFICAÇÃO FINAL ESUS  \\\n",
       "0       NaN  232179088019           Detectável  Confirmado Laboratorial   \n",
       "1       NaN           NaN                  NaN                      NaN   \n",
       "2       NaN  232003579151                  NaN                      NaN   \n",
       "3       NaN           NaN                  NaN                      NaN   \n",
       "4       NaN  232174251488                  NaN                      NaN   \n",
       "\n",
       "       ID SIVEP                 NOME PACIENTE DATA NASCIMENTO SEXO PACIENTE  \\\n",
       "0  316203213837      PAULINO ALMEIDA DA SILVA      02/01/1953     MASCULINO   \n",
       "1  315972311285   MANOEL PEREIRA DOS SANTOS\\t      03/04/1924     MASCULINO   \n",
       "2  316346666581   VALFREDO RODRIGUES DA SILVA      15/03/1950     MASCULINO   \n",
       "3           NaN       FRANCISCO GERALDO NUNES      02/02/1963     MASCULINO   \n",
       "4  316179920735  ANA MARIA RODRIGUES FERREIRA      06/07/1966      FEMININO   \n",
       "\n",
       "     IBGE MUNICIPIO PACIENTE  ... BAIRRO PACIENTE CEP PACIENTE  \\\n",
       "0  231090    PIQUET CARNEIRO  ...     ALTO ALEGRE     63605000   \n",
       "1  230440          FORTALEZA  ...  HENRIQUE JORGE     60510415   \n",
       "2  230440          FORTALEZA  ...         SALINAS     60810821   \n",
       "3  230030           ACOPIARA  ...   NOVA ACOPIARA          NaN   \n",
       "4  230440          FORTALEZA  ...  VICENTE PINZON          NaN   \n",
       "\n",
       "  DATA NOTIFICACAO DATA INICIO SINTOMAS LABORATORIO TIPO TESTE DATA DA COLETA  \\\n",
       "0       26/04/2021           21/04/2021       LACEN     RT-PCR     27/04/2021   \n",
       "1       11/08/2020           01/08/2020       LACEN     RT-PCR     11/08/2020   \n",
       "2       11/06/2020           05/06/2020       LACEN     RT-PCR     11/06/2020   \n",
       "3              NaN           27/03/2021      Outros     RT-PCR     27/03/2021   \n",
       "4       27/03/2021           27/03/2021       LACEN     RT-PCR     27/03/2021   \n",
       "\n",
       "  DATA RESULTADO EXAME        ID GAL   base  \n",
       "0           30/04/2021             0  sivep  \n",
       "1           16/08/2020     100527159  sivep  \n",
       "2           14/06/2020  101119001349  sivep  \n",
       "3                  NaN     1011881.0    gal  \n",
       "4           28/03/2021   10160002636  sivep  \n",
       "\n",
       "[5 rows x 21 columns]"
      ]
     },
     "execution_count": 14,
     "metadata": {},
     "output_type": "execute_result"
    }
   ],
   "source": [
    "df_confirmados = pd.read_csv(path,\n",
    "                             sep=';',\n",
    "                             dtype=str)\n",
    "df_confirmados.head()"
   ]
  },
  {
   "cell_type": "code",
   "execution_count": 15,
   "id": "vZRTiQsdFkIc",
   "metadata": {
    "executionInfo": {
     "elapsed": 872,
     "status": "ok",
     "timestamp": 1679337705007,
     "user": {
      "displayName": "Erik Zarko",
      "userId": "00935603548463073470"
     },
     "user_tz": 180
    },
    "id": "vZRTiQsdFkIc"
   },
   "outputs": [],
   "source": [
    "df_confirmados['DATA NOTIFICACAO'] = pd.to_datetime(df_confirmados['DATA NOTIFICACAO'], format='%d/%m/%Y')"
   ]
  },
  {
   "cell_type": "code",
   "execution_count": 16,
   "id": "_Ll-E7QIF8ck",
   "metadata": {
    "colab": {
     "base_uri": "https://localhost:8080/"
    },
    "executionInfo": {
     "elapsed": 2997,
     "status": "ok",
     "timestamp": 1679337709415,
     "user": {
      "displayName": "Erik Zarko",
      "userId": "00935603548463073470"
     },
     "user_tz": 180
    },
    "id": "_Ll-E7QIF8ck",
    "outputId": "3d2c0c13-2204-478a-d064-1d8d1fba7e06"
   },
   "outputs": [
    {
     "name": "stdout",
     "output_type": "stream",
     "text": [
      "<class 'pandas.core.frame.DataFrame'>\n",
      "RangeIndex: 1283560 entries, 0 to 1283559\n",
      "Data columns (total 21 columns):\n",
      " #   Column                    Non-Null Count    Dtype         \n",
      "---  ------                    --------------    -----         \n",
      " 0   ID REDCAP                 0 non-null        object        \n",
      " 1   ID ESUS                   1114097 non-null  object        \n",
      " 2   RESULTADO TESTE ESUS      913948 non-null   object        \n",
      " 3   CLASSIFICAÇÃO FINAL ESUS  657994 non-null   object        \n",
      " 4   ID SIVEP                  51935 non-null    object        \n",
      " 5   NOME PACIENTE             1283560 non-null  object        \n",
      " 6   DATA NASCIMENTO           1281367 non-null  object        \n",
      " 7   SEXO PACIENTE             1283553 non-null  object        \n",
      " 8   IBGE                      1265593 non-null  object        \n",
      " 9   MUNICIPIO PACIENTE        1265593 non-null  object        \n",
      " 10  ENDEREÇO PACIENTE         1171138 non-null  object        \n",
      " 11  BAIRRO PACIENTE           1111614 non-null  object        \n",
      " 12  CEP PACIENTE              1062746 non-null  object        \n",
      " 13  DATA NOTIFICACAO          1049666 non-null  datetime64[ns]\n",
      " 14  DATA INICIO SINTOMAS      1037513 non-null  object        \n",
      " 15  LABORATORIO               1283560 non-null  object        \n",
      " 16  TIPO TESTE                1282713 non-null  object        \n",
      " 17  DATA DA COLETA            1257364 non-null  object        \n",
      " 18  DATA RESULTADO EXAME      1246073 non-null  object        \n",
      " 19  ID GAL                    542376 non-null   object        \n",
      " 20  base                      1283560 non-null  object        \n",
      "dtypes: datetime64[ns](1), object(20)\n",
      "memory usage: 205.6+ MB\n"
     ]
    }
   ],
   "source": [
    "df_confirmados.info()"
   ]
  },
  {
   "cell_type": "code",
   "execution_count": 17,
   "id": "3oRFFh_bl26i",
   "metadata": {
    "executionInfo": {
     "elapsed": 5,
     "status": "ok",
     "timestamp": 1679337711004,
     "user": {
      "displayName": "Erik Zarko",
      "userId": "00935603548463073470"
     },
     "user_tz": 180
    },
    "id": "3oRFFh_bl26i"
   },
   "outputs": [],
   "source": [
    "confirmados = df_confirmados.groupby('DATA NOTIFICACAO')['DATA NOTIFICACAO'].count()"
   ]
  },
  {
   "cell_type": "code",
   "execution_count": 18,
   "id": "afSE8qJkKXL_",
   "metadata": {
    "colab": {
     "base_uri": "https://localhost:8080/"
    },
    "executionInfo": {
     "elapsed": 306,
     "status": "ok",
     "timestamp": 1679337712810,
     "user": {
      "displayName": "Erik Zarko",
      "userId": "00935603548463073470"
     },
     "user_tz": 180
    },
    "id": "afSE8qJkKXL_",
    "outputId": "235ec405-849c-4344-f4e1-126bff51cea1"
   },
   "outputs": [
    {
     "data": {
      "text/plain": [
       "DATA NOTIFICACAO\n",
       "2020-01-01      1\n",
       "2020-01-02      2\n",
       "2020-01-04      3\n",
       "2020-01-05      2\n",
       "2020-01-06      2\n",
       "             ... \n",
       "2022-07-08    690\n",
       "2022-07-09    199\n",
       "2022-07-10    111\n",
       "2022-07-11    706\n",
       "2022-07-12    412\n",
       "Name: DATA NOTIFICACAO, Length: 884, dtype: int64"
      ]
     },
     "execution_count": 18,
     "metadata": {},
     "output_type": "execute_result"
    }
   ],
   "source": [
    "confirmados"
   ]
  },
  {
   "cell_type": "markdown",
   "id": "GaPLX9kod3Du",
   "metadata": {
    "id": "GaPLX9kod3Du"
   },
   "source": [
    "## 3.3 Correlação entre as séries"
   ]
  },
  {
   "cell_type": "code",
   "execution_count": 30,
   "id": "zss532RsoClW",
   "metadata": {
    "id": "zss532RsoClW"
   },
   "outputs": [],
   "source": [
    "def lista_de_datas(data_inicial, data_final):\n",
    "    n = (data_final - data_inicial).days + 1\n",
    "\n",
    "    datas = []\n",
    "    for i in range(n):\n",
    "        datas.append(data_inicial + dt.timedelta(i))\n",
    "    return datas"
   ]
  },
  {
   "cell_type": "code",
   "execution_count": 31,
   "id": "2c2SiMRKTPM1",
   "metadata": {
    "colab": {
     "base_uri": "https://localhost:8080/"
    },
    "executionInfo": {
     "elapsed": 441,
     "status": "ok",
     "timestamp": 1669740731227,
     "user": {
      "displayName": "ERIK SOLHA",
      "userId": "01134727171186772865"
     },
     "user_tz": 180
    },
    "id": "2c2SiMRKTPM1",
    "outputId": "0b75dff3-b0d1-4fbc-a42f-df4205e9b8a6"
   },
   "outputs": [
    {
     "data": {
      "text/plain": [
       "datetime.date(2022, 11, 28)"
      ]
     },
     "execution_count": 31,
     "metadata": {},
     "output_type": "execute_result"
    }
   ],
   "source": [
    "suspeitos.index[-1].date()"
   ]
  },
  {
   "cell_type": "code",
   "execution_count": 32,
   "id": "GgV5H4itoXC0",
   "metadata": {
    "id": "GgV5H4itoXC0"
   },
   "outputs": [],
   "source": [
    "vetor_data = lista_de_datas(dt.date(2020,1,1), suspeitos.index[-1].date())"
   ]
  },
  {
   "cell_type": "code",
   "execution_count": 33,
   "id": "pfkZqd_DsomL",
   "metadata": {
    "colab": {
     "base_uri": "https://localhost:8080/"
    },
    "executionInfo": {
     "elapsed": 10,
     "status": "ok",
     "timestamp": 1669740746212,
     "user": {
      "displayName": "ERIK SOLHA",
      "userId": "01134727171186772865"
     },
     "user_tz": 180
    },
    "id": "pfkZqd_DsomL",
    "outputId": "c7dde10b-f63a-4df9-e569-9f85ab4a43cc"
   },
   "outputs": [
    {
     "data": {
      "text/plain": [
       "1063"
      ]
     },
     "execution_count": 33,
     "metadata": {},
     "output_type": "execute_result"
    }
   ],
   "source": [
    "len(vetor_data)"
   ]
  },
  {
   "cell_type": "code",
   "execution_count": 34,
   "id": "_AfHIm_g5fxr",
   "metadata": {
    "id": "_AfHIm_g5fxr"
   },
   "outputs": [],
   "source": [
    "dict_suspeitos = suspeitos.to_dict()\n",
    "dict_confirmados = confirmados.to_dict()"
   ]
  },
  {
   "cell_type": "code",
   "execution_count": 35,
   "id": "YoXkewMv-mS4",
   "metadata": {
    "id": "YoXkewMv-mS4"
   },
   "outputs": [],
   "source": [
    "dict_suspeitos_ajuste = {}\n",
    "dict_confirmados_ajuste = {}\n",
    "for key, value in dict_suspeitos.items():\n",
    "    dict_suspeitos_ajuste[key.date()] = value\n",
    "\n",
    "for key, value in dict_confirmados.items():\n",
    "    dict_confirmados_ajuste[key.date()] = value"
   ]
  },
  {
   "cell_type": "code",
   "execution_count": 36,
   "id": "fQk3qCcS4KxU",
   "metadata": {
    "id": "fQk3qCcS4KxU"
   },
   "outputs": [],
   "source": [
    "lista_suspeitos = []\n",
    "lista_confirmados = []\n",
    "\n",
    "for indice, data in enumerate(vetor_data):\n",
    "    if data in dict_suspeitos_ajuste:\n",
    "        lista_suspeitos.append(dict_suspeitos_ajuste[data])\n",
    "    else:\n",
    "        lista_suspeitos.append(np.nan)\n",
    "  \n",
    "    if data in dict_confirmados_ajuste:\n",
    "        lista_confirmados.append(dict_confirmados_ajuste[data])\n",
    "    else:\n",
    "        lista_confirmados.append(np.nan)"
   ]
  },
  {
   "cell_type": "code",
   "execution_count": 37,
   "id": "MWeVRiGLLyeB",
   "metadata": {
    "id": "MWeVRiGLLyeB"
   },
   "outputs": [],
   "source": [
    "d = {'suspeitos': lista_suspeitos, 'confirmados': lista_confirmados}"
   ]
  },
  {
   "cell_type": "code",
   "execution_count": 38,
   "id": "plXSMVG3LKyR",
   "metadata": {
    "id": "plXSMVG3LKyR"
   },
   "outputs": [],
   "source": [
    "df_corr = pd.DataFrame(data = d, index = vetor_data)"
   ]
  },
  {
   "cell_type": "code",
   "execution_count": 39,
   "id": "nelufZA9MIgU",
   "metadata": {
    "colab": {
     "base_uri": "https://localhost:8080/",
     "height": 206
    },
    "executionInfo": {
     "elapsed": 15,
     "status": "ok",
     "timestamp": 1669740761297,
     "user": {
      "displayName": "ERIK SOLHA",
      "userId": "01134727171186772865"
     },
     "user_tz": 180
    },
    "id": "nelufZA9MIgU",
    "outputId": "5189fe8d-1795-4721-982f-929b8e82cbb0"
   },
   "outputs": [
    {
     "data": {
      "text/html": [
       "<div>\n",
       "<style scoped>\n",
       "    .dataframe tbody tr th:only-of-type {\n",
       "        vertical-align: middle;\n",
       "    }\n",
       "\n",
       "    .dataframe tbody tr th {\n",
       "        vertical-align: top;\n",
       "    }\n",
       "\n",
       "    .dataframe thead th {\n",
       "        text-align: right;\n",
       "    }\n",
       "</style>\n",
       "<table border=\"1\" class=\"dataframe\">\n",
       "  <thead>\n",
       "    <tr style=\"text-align: right;\">\n",
       "      <th></th>\n",
       "      <th>suspeitos</th>\n",
       "      <th>confirmados</th>\n",
       "    </tr>\n",
       "  </thead>\n",
       "  <tbody>\n",
       "    <tr>\n",
       "      <th>2020-01-01</th>\n",
       "      <td>30</td>\n",
       "      <td>1.0</td>\n",
       "    </tr>\n",
       "    <tr>\n",
       "      <th>2020-01-02</th>\n",
       "      <td>47</td>\n",
       "      <td>2.0</td>\n",
       "    </tr>\n",
       "    <tr>\n",
       "      <th>2020-01-03</th>\n",
       "      <td>41</td>\n",
       "      <td>NaN</td>\n",
       "    </tr>\n",
       "    <tr>\n",
       "      <th>2020-01-04</th>\n",
       "      <td>46</td>\n",
       "      <td>3.0</td>\n",
       "    </tr>\n",
       "    <tr>\n",
       "      <th>2020-01-05</th>\n",
       "      <td>35</td>\n",
       "      <td>2.0</td>\n",
       "    </tr>\n",
       "  </tbody>\n",
       "</table>\n",
       "</div>"
      ],
      "text/plain": [
       "            suspeitos  confirmados\n",
       "2020-01-01         30          1.0\n",
       "2020-01-02         47          2.0\n",
       "2020-01-03         41          NaN\n",
       "2020-01-04         46          3.0\n",
       "2020-01-05         35          2.0"
      ]
     },
     "execution_count": 39,
     "metadata": {},
     "output_type": "execute_result"
    }
   ],
   "source": [
    "df_corr.head()"
   ]
  },
  {
   "cell_type": "code",
   "execution_count": 40,
   "id": "8422478b",
   "metadata": {},
   "outputs": [],
   "source": [
    "df_corr['suspeitos'] = df_corr['suspeitos'].replace(np.nan, 0.0)\n",
    "df_corr['confirmados'] = df_corr['confirmados'].replace(np.nan, 0.0)"
   ]
  },
  {
   "cell_type": "code",
   "execution_count": 41,
   "id": "BFULv_c86C7C",
   "metadata": {
    "id": "BFULv_c86C7C"
   },
   "outputs": [],
   "source": [
    "tamanho_janela = 7\n",
    "\n",
    "janela_suspeitos = df_corr['suspeitos'].rolling(tamanho_janela, min_periods = 1)\n",
    "df_corr['media_movel_suspeitos'] = janela_suspeitos.mean()\n",
    "\n",
    "janela_confirmados = df_corr['confirmados'].rolling(tamanho_janela, min_periods = 1)\n",
    "df_corr['media_movel_confirmados'] = janela_confirmados.mean()"
   ]
  },
  {
   "cell_type": "code",
   "execution_count": 42,
   "id": "3zT87xSLLChG",
   "metadata": {
    "colab": {
     "base_uri": "https://localhost:8080/",
     "height": 206
    },
    "executionInfo": {
     "elapsed": 14,
     "status": "ok",
     "timestamp": 1669740769417,
     "user": {
      "displayName": "ERIK SOLHA",
      "userId": "01134727171186772865"
     },
     "user_tz": 180
    },
    "id": "3zT87xSLLChG",
    "outputId": "cc9d3b8e-1d3b-4140-f8f2-da27ed0118e0"
   },
   "outputs": [
    {
     "data": {
      "text/html": [
       "<div>\n",
       "<style scoped>\n",
       "    .dataframe tbody tr th:only-of-type {\n",
       "        vertical-align: middle;\n",
       "    }\n",
       "\n",
       "    .dataframe tbody tr th {\n",
       "        vertical-align: top;\n",
       "    }\n",
       "\n",
       "    .dataframe thead th {\n",
       "        text-align: right;\n",
       "    }\n",
       "</style>\n",
       "<table border=\"1\" class=\"dataframe\">\n",
       "  <thead>\n",
       "    <tr style=\"text-align: right;\">\n",
       "      <th></th>\n",
       "      <th>suspeitos</th>\n",
       "      <th>confirmados</th>\n",
       "      <th>media_movel_suspeitos</th>\n",
       "      <th>media_movel_confirmados</th>\n",
       "    </tr>\n",
       "  </thead>\n",
       "  <tbody>\n",
       "    <tr>\n",
       "      <th>2020-01-01</th>\n",
       "      <td>30</td>\n",
       "      <td>1.0</td>\n",
       "      <td>30.000000</td>\n",
       "      <td>1.0</td>\n",
       "    </tr>\n",
       "    <tr>\n",
       "      <th>2020-01-02</th>\n",
       "      <td>47</td>\n",
       "      <td>2.0</td>\n",
       "      <td>38.500000</td>\n",
       "      <td>1.5</td>\n",
       "    </tr>\n",
       "    <tr>\n",
       "      <th>2020-01-03</th>\n",
       "      <td>41</td>\n",
       "      <td>0.0</td>\n",
       "      <td>39.333333</td>\n",
       "      <td>1.0</td>\n",
       "    </tr>\n",
       "    <tr>\n",
       "      <th>2020-01-04</th>\n",
       "      <td>46</td>\n",
       "      <td>3.0</td>\n",
       "      <td>41.000000</td>\n",
       "      <td>1.5</td>\n",
       "    </tr>\n",
       "    <tr>\n",
       "      <th>2020-01-05</th>\n",
       "      <td>35</td>\n",
       "      <td>2.0</td>\n",
       "      <td>39.800000</td>\n",
       "      <td>1.6</td>\n",
       "    </tr>\n",
       "  </tbody>\n",
       "</table>\n",
       "</div>"
      ],
      "text/plain": [
       "            suspeitos  confirmados  media_movel_suspeitos  \\\n",
       "2020-01-01         30          1.0              30.000000   \n",
       "2020-01-02         47          2.0              38.500000   \n",
       "2020-01-03         41          0.0              39.333333   \n",
       "2020-01-04         46          3.0              41.000000   \n",
       "2020-01-05         35          2.0              39.800000   \n",
       "\n",
       "            media_movel_confirmados  \n",
       "2020-01-01                      1.0  \n",
       "2020-01-02                      1.5  \n",
       "2020-01-03                      1.0  \n",
       "2020-01-04                      1.5  \n",
       "2020-01-05                      1.6  "
      ]
     },
     "execution_count": 42,
     "metadata": {},
     "output_type": "execute_result"
    }
   ],
   "source": [
    "df_corr.head()"
   ]
  },
  {
   "cell_type": "code",
   "execution_count": 43,
   "id": "SwKSbTEx3Q9E",
   "metadata": {
    "colab": {
     "base_uri": "https://localhost:8080/",
     "height": 286
    },
    "executionInfo": {
     "elapsed": 641,
     "status": "ok",
     "timestamp": 1669740773177,
     "user": {
      "displayName": "ERIK SOLHA",
      "userId": "01134727171186772865"
     },
     "user_tz": 180
    },
    "id": "SwKSbTEx3Q9E",
    "outputId": "18fba0a6-2d7b-4074-a5ee-5653af52cf57"
   },
   "outputs": [
    {
     "data": {
      "text/plain": [
       "<AxesSubplot:>"
      ]
     },
     "execution_count": 43,
     "metadata": {},
     "output_type": "execute_result"
    },
    {
     "data": {
      "image/png": "[encoded data removed]",
      "text/plain": [
       "<Figure size 640x480 with 1 Axes>"
      ]
     },
     "metadata": {},
     "output_type": "display_data"
    }
   ],
   "source": [
    "df_corr['media_movel_suspeitos'].plot()"
   ]
  },
  {
   "cell_type": "code",
   "execution_count": 44,
   "id": "sGb5XKfkZsnH",
   "metadata": {
    "id": "sGb5XKfkZsnH"
   },
   "outputs": [],
   "source": [
    "df_corr.reset_index(drop = False, inplace = True)\n",
    "df_corr.to_csv(r'datasets\\tabela_correlacao_20221128.csv', sep = ';', index = False)"
   ]
  },
  {
   "cell_type": "markdown",
   "id": "upcq6Vut2gt4",
   "metadata": {
    "id": "upcq6Vut2gt4"
   },
   "source": [
    "## 3.4 Separando as ondas"
   ]
  },
  {
   "cell_type": "code",
   "execution_count": null,
   "id": "Aap4L9e21ZCR",
   "metadata": {
    "colab": {
     "base_uri": "https://localhost:8080/",
     "height": 424
    },
    "executionInfo": {
     "elapsed": 413,
     "status": "ok",
     "timestamp": 1669676466471,
     "user": {
      "displayName": "ERIK SOLHA",
      "userId": "01134727171186772865"
     },
     "user_tz": 180
    },
    "id": "Aap4L9e21ZCR",
    "outputId": "9a0718ca-eab9-448c-b78c-10bbfdc8855f"
   },
   "outputs": [
    {
     "data": {
      "text/html": [
       "\n",
       "  <div id=\"df-a4483628-7bdb-49cc-9d94-bfa1201e2d42\">\n",
       "    <div class=\"colab-df-container\">\n",
       "      <div>\n",
       "<style scoped>\n",
       "    .dataframe tbody tr th:only-of-type {\n",
       "        vertical-align: middle;\n",
       "    }\n",
       "\n",
       "    .dataframe tbody tr th {\n",
       "        vertical-align: top;\n",
       "    }\n",
       "\n",
       "    .dataframe thead th {\n",
       "        text-align: right;\n",
       "    }\n",
       "</style>\n",
       "<table border=\"1\" class=\"dataframe\">\n",
       "  <thead>\n",
       "    <tr style=\"text-align: right;\">\n",
       "      <th></th>\n",
       "      <th>suspeitos</th>\n",
       "      <th>confirmados</th>\n",
       "      <th>media_movel_suspeitos</th>\n",
       "      <th>media_movel_confirmados</th>\n",
       "    </tr>\n",
       "  </thead>\n",
       "  <tbody>\n",
       "    <tr>\n",
       "      <th>2020-01-01</th>\n",
       "      <td>11.0</td>\n",
       "      <td>1.0</td>\n",
       "      <td>11.000000</td>\n",
       "      <td>1.000000</td>\n",
       "    </tr>\n",
       "    <tr>\n",
       "      <th>2020-01-02</th>\n",
       "      <td>11.0</td>\n",
       "      <td>2.0</td>\n",
       "      <td>11.000000</td>\n",
       "      <td>1.500000</td>\n",
       "    </tr>\n",
       "    <tr>\n",
       "      <th>2020-01-03</th>\n",
       "      <td>15.0</td>\n",
       "      <td>NaN</td>\n",
       "      <td>12.333333</td>\n",
       "      <td>1.500000</td>\n",
       "    </tr>\n",
       "    <tr>\n",
       "      <th>2020-01-04</th>\n",
       "      <td>14.0</td>\n",
       "      <td>3.0</td>\n",
       "      <td>12.750000</td>\n",
       "      <td>2.000000</td>\n",
       "    </tr>\n",
       "    <tr>\n",
       "      <th>2020-01-05</th>\n",
       "      <td>14.0</td>\n",
       "      <td>2.0</td>\n",
       "      <td>13.000000</td>\n",
       "      <td>2.000000</td>\n",
       "    </tr>\n",
       "    <tr>\n",
       "      <th>...</th>\n",
       "      <td>...</td>\n",
       "      <td>...</td>\n",
       "      <td>...</td>\n",
       "      <td>...</td>\n",
       "    </tr>\n",
       "    <tr>\n",
       "      <th>2020-10-27</th>\n",
       "      <td>10.0</td>\n",
       "      <td>696.0</td>\n",
       "      <td>11.857143</td>\n",
       "      <td>569.571429</td>\n",
       "    </tr>\n",
       "    <tr>\n",
       "      <th>2020-10-28</th>\n",
       "      <td>42.0</td>\n",
       "      <td>608.0</td>\n",
       "      <td>17.571429</td>\n",
       "      <td>558.857143</td>\n",
       "    </tr>\n",
       "    <tr>\n",
       "      <th>2020-10-29</th>\n",
       "      <td>31.0</td>\n",
       "      <td>727.0</td>\n",
       "      <td>20.428571</td>\n",
       "      <td>552.571429</td>\n",
       "    </tr>\n",
       "    <tr>\n",
       "      <th>2020-10-30</th>\n",
       "      <td>16.0</td>\n",
       "      <td>560.0</td>\n",
       "      <td>20.142857</td>\n",
       "      <td>528.142857</td>\n",
       "    </tr>\n",
       "    <tr>\n",
       "      <th>2020-10-31</th>\n",
       "      <td>18.0</td>\n",
       "      <td>219.0</td>\n",
       "      <td>21.428571</td>\n",
       "      <td>530.285714</td>\n",
       "    </tr>\n",
       "  </tbody>\n",
       "</table>\n",
       "<p>305 rows × 4 columns</p>\n",
       "</div>\n",
       "      <button class=\"colab-df-convert\" onclick=\"convertToInteractive('df-a4483628-7bdb-49cc-9d94-bfa1201e2d42')\"\n",
       "              title=\"Convert this dataframe to an interactive table.\"\n",
       "              style=\"display:none;\">\n",
       "        \n",
       "  <svg xmlns=\"http://www.w3.org/2000/svg\" height=\"24px\"viewBox=\"0 0 24 24\"\n",
       "       width=\"24px\">\n",
       "    <path d=\"M0 0h24v24H0V0z\" fill=\"none\"/>\n",
       "    <path d=\"M18.56 5.44l.94 2.06.94-2.06 2.06-.94-2.06-.94-.94-2.06-.94 2.06-2.06.94zm-11 1L8.5 8.5l.94-2.06 2.06-.94-2.06-.94L8.5 2.5l-.94 2.06-2.06.94zm10 10l.94 2.06.94-2.06 2.06-.94-2.06-.94-.94-2.06-.94 2.06-2.06.94z\"/><path d=\"M17.41 7.96l-1.37-1.37c-.4-.4-.92-.59-1.43-.59-.52 0-1.04.2-1.43.59L10.3 9.45l-7.72 7.72c-.78.78-.78 2.05 0 2.83L4 21.41c.39.39.9.59 1.41.59.51 0 1.02-.2 1.41-.59l7.78-7.78 2.81-2.81c.8-.78.8-2.07 0-2.86zM5.41 20L4 18.59l7.72-7.72 1.47 1.35L5.41 20z\"/>\n",
       "  </svg>\n",
       "      </button>\n",
       "      \n",
       "  <style>\n",
       "    .colab-df-container {\n",
       "      display:flex;\n",
       "      flex-wrap:wrap;\n",
       "      gap: 12px;\n",
       "    }\n",
       "\n",
       "    .colab-df-convert {\n",
       "      background-color: #E8F0FE;\n",
       "      border: none;\n",
       "      border-radius: 50%;\n",
       "      cursor: pointer;\n",
       "      display: none;\n",
       "      fill: #1967D2;\n",
       "      height: 32px;\n",
       "      padding: 0 0 0 0;\n",
       "      width: 32px;\n",
       "    }\n",
       "\n",
       "    .colab-df-convert:hover {\n",
       "      background-color: #E2EBFA;\n",
       "      box-shadow: 0px 1px 2px rgba(60, 64, 67, 0.3), 0px 1px 3px 1px rgba(60, 64, 67, 0.15);\n",
       "      fill: #174EA6;\n",
       "    }\n",
       "\n",
       "    [theme=dark] .colab-df-convert {\n",
       "      background-color: #3B4455;\n",
       "      fill: #D2E3FC;\n",
       "    }\n",
       "\n",
       "    [theme=dark] .colab-df-convert:hover {\n",
       "      background-color: #434B5C;\n",
       "      box-shadow: 0px 1px 3px 1px rgba(0, 0, 0, 0.15);\n",
       "      filter: drop-shadow(0px 1px 2px rgba(0, 0, 0, 0.3));\n",
       "      fill: #FFFFFF;\n",
       "    }\n",
       "  </style>\n",
       "\n",
       "      <script>\n",
       "        const buttonEl =\n",
       "          document.querySelector('#df-a4483628-7bdb-49cc-9d94-bfa1201e2d42 button.colab-df-convert');\n",
       "        buttonEl.style.display =\n",
       "          google.colab.kernel.accessAllowed ? 'block' : 'none';\n",
       "\n",
       "        async function convertToInteractive(key) {\n",
       "          const element = document.querySelector('#df-a4483628-7bdb-49cc-9d94-bfa1201e2d42');\n",
       "          const dataTable =\n",
       "            await google.colab.kernel.invokeFunction('convertToInteractive',\n",
       "                                                     [key], {});\n",
       "          if (!dataTable) return;\n",
       "\n",
       "          const docLinkHtml = 'Like what you see? Visit the ' +\n",
       "            '<a target=\"_blank\" href=https://colab.research.google.com/notebooks/data_table.ipynb>data table notebook</a>'\n",
       "            + ' to learn more about interactive tables.';\n",
       "          element.innerHTML = '';\n",
       "          dataTable['output_type'] = 'display_data';\n",
       "          await google.colab.output.renderOutput(dataTable, element);\n",
       "          const docLink = document.createElement('div');\n",
       "          docLink.innerHTML = docLinkHtml;\n",
       "          element.appendChild(docLink);\n",
       "        }\n",
       "      </script>\n",
       "    </div>\n",
       "  </div>\n",
       "  "
      ],
      "text/plain": [
       "            suspeitos  confirmados  media_movel_suspeitos  \\\n",
       "2020-01-01       11.0          1.0              11.000000   \n",
       "2020-01-02       11.0          2.0              11.000000   \n",
       "2020-01-03       15.0          NaN              12.333333   \n",
       "2020-01-04       14.0          3.0              12.750000   \n",
       "2020-01-05       14.0          2.0              13.000000   \n",
       "...               ...          ...                    ...   \n",
       "2020-10-27       10.0        696.0              11.857143   \n",
       "2020-10-28       42.0        608.0              17.571429   \n",
       "2020-10-29       31.0        727.0              20.428571   \n",
       "2020-10-30       16.0        560.0              20.142857   \n",
       "2020-10-31       18.0        219.0              21.428571   \n",
       "\n",
       "            media_movel_confirmados  \n",
       "2020-01-01                 1.000000  \n",
       "2020-01-02                 1.500000  \n",
       "2020-01-03                 1.500000  \n",
       "2020-01-04                 2.000000  \n",
       "2020-01-05                 2.000000  \n",
       "...                             ...  \n",
       "2020-10-27               569.571429  \n",
       "2020-10-28               558.857143  \n",
       "2020-10-29               552.571429  \n",
       "2020-10-30               528.142857  \n",
       "2020-10-31               530.285714  \n",
       "\n",
       "[305 rows x 4 columns]"
      ]
     },
     "execution_count": 62,
     "metadata": {},
     "output_type": "execute_result"
    }
   ],
   "source": [
    "df_onda1 = df_corr[df_corr.index < dt.date(2020, 11, 1)]\n",
    "df_onda1"
   ]
  },
  {
   "cell_type": "code",
   "execution_count": null,
   "id": "JXNRYXZ11zG8",
   "metadata": {
    "colab": {
     "base_uri": "https://localhost:8080/",
     "height": 424
    },
    "executionInfo": {
     "elapsed": 7,
     "status": "ok",
     "timestamp": 1669676467351,
     "user": {
      "displayName": "ERIK SOLHA",
      "userId": "01134727171186772865"
     },
     "user_tz": 180
    },
    "id": "JXNRYXZ11zG8",
    "outputId": "9ceaad5c-6ebc-407d-d9ee-4753516c5c96"
   },
   "outputs": [
    {
     "data": {
      "text/html": [
       "\n",
       "  <div id=\"df-a6f1052d-587e-4524-918f-262a6aa63159\">\n",
       "    <div class=\"colab-df-container\">\n",
       "      <div>\n",
       "<style scoped>\n",
       "    .dataframe tbody tr th:only-of-type {\n",
       "        vertical-align: middle;\n",
       "    }\n",
       "\n",
       "    .dataframe tbody tr th {\n",
       "        vertical-align: top;\n",
       "    }\n",
       "\n",
       "    .dataframe thead th {\n",
       "        text-align: right;\n",
       "    }\n",
       "</style>\n",
       "<table border=\"1\" class=\"dataframe\">\n",
       "  <thead>\n",
       "    <tr style=\"text-align: right;\">\n",
       "      <th></th>\n",
       "      <th>suspeitos</th>\n",
       "      <th>confirmados</th>\n",
       "      <th>media_movel_suspeitos</th>\n",
       "      <th>media_movel_confirmados</th>\n",
       "    </tr>\n",
       "  </thead>\n",
       "  <tbody>\n",
       "    <tr>\n",
       "      <th>2020-11-01</th>\n",
       "      <td>12.0</td>\n",
       "      <td>115.0</td>\n",
       "      <td>21.714286</td>\n",
       "      <td>528.857143</td>\n",
       "    </tr>\n",
       "    <tr>\n",
       "      <th>2020-11-02</th>\n",
       "      <td>17.0</td>\n",
       "      <td>197.0</td>\n",
       "      <td>20.857143</td>\n",
       "      <td>446.000000</td>\n",
       "    </tr>\n",
       "    <tr>\n",
       "      <th>2020-11-03</th>\n",
       "      <td>15.0</td>\n",
       "      <td>921.0</td>\n",
       "      <td>21.571429</td>\n",
       "      <td>478.142857</td>\n",
       "    </tr>\n",
       "    <tr>\n",
       "      <th>2020-11-04</th>\n",
       "      <td>18.0</td>\n",
       "      <td>705.0</td>\n",
       "      <td>18.142857</td>\n",
       "      <td>492.000000</td>\n",
       "    </tr>\n",
       "    <tr>\n",
       "      <th>2020-11-05</th>\n",
       "      <td>12.0</td>\n",
       "      <td>924.0</td>\n",
       "      <td>15.428571</td>\n",
       "      <td>520.142857</td>\n",
       "    </tr>\n",
       "    <tr>\n",
       "      <th>...</th>\n",
       "      <td>...</td>\n",
       "      <td>...</td>\n",
       "      <td>...</td>\n",
       "      <td>...</td>\n",
       "    </tr>\n",
       "    <tr>\n",
       "      <th>2021-10-27</th>\n",
       "      <td>15.0</td>\n",
       "      <td>235.0</td>\n",
       "      <td>15.000000</td>\n",
       "      <td>178.285714</td>\n",
       "    </tr>\n",
       "    <tr>\n",
       "      <th>2021-10-28</th>\n",
       "      <td>11.0</td>\n",
       "      <td>229.0</td>\n",
       "      <td>14.285714</td>\n",
       "      <td>175.142857</td>\n",
       "    </tr>\n",
       "    <tr>\n",
       "      <th>2021-10-29</th>\n",
       "      <td>18.0</td>\n",
       "      <td>183.0</td>\n",
       "      <td>15.285714</td>\n",
       "      <td>179.571429</td>\n",
       "    </tr>\n",
       "    <tr>\n",
       "      <th>2021-10-30</th>\n",
       "      <td>9.0</td>\n",
       "      <td>85.0</td>\n",
       "      <td>13.428571</td>\n",
       "      <td>182.857143</td>\n",
       "    </tr>\n",
       "    <tr>\n",
       "      <th>2021-10-31</th>\n",
       "      <td>9.0</td>\n",
       "      <td>46.0</td>\n",
       "      <td>12.142857</td>\n",
       "      <td>184.571429</td>\n",
       "    </tr>\n",
       "  </tbody>\n",
       "</table>\n",
       "<p>365 rows × 4 columns</p>\n",
       "</div>\n",
       "      <button class=\"colab-df-convert\" onclick=\"convertToInteractive('df-a6f1052d-587e-4524-918f-262a6aa63159')\"\n",
       "              title=\"Convert this dataframe to an interactive table.\"\n",
       "              style=\"display:none;\">\n",
       "        \n",
       "  <svg xmlns=\"http://www.w3.org/2000/svg\" height=\"24px\"viewBox=\"0 0 24 24\"\n",
       "       width=\"24px\">\n",
       "    <path d=\"M0 0h24v24H0V0z\" fill=\"none\"/>\n",
       "    <path d=\"M18.56 5.44l.94 2.06.94-2.06 2.06-.94-2.06-.94-.94-2.06-.94 2.06-2.06.94zm-11 1L8.5 8.5l.94-2.06 2.06-.94-2.06-.94L8.5 2.5l-.94 2.06-2.06.94zm10 10l.94 2.06.94-2.06 2.06-.94-2.06-.94-.94-2.06-.94 2.06-2.06.94z\"/><path d=\"M17.41 7.96l-1.37-1.37c-.4-.4-.92-.59-1.43-.59-.52 0-1.04.2-1.43.59L10.3 9.45l-7.72 7.72c-.78.78-.78 2.05 0 2.83L4 21.41c.39.39.9.59 1.41.59.51 0 1.02-.2 1.41-.59l7.78-7.78 2.81-2.81c.8-.78.8-2.07 0-2.86zM5.41 20L4 18.59l7.72-7.72 1.47 1.35L5.41 20z\"/>\n",
       "  </svg>\n",
       "      </button>\n",
       "      \n",
       "  <style>\n",
       "    .colab-df-container {\n",
       "      display:flex;\n",
       "      flex-wrap:wrap;\n",
       "      gap: 12px;\n",
       "    }\n",
       "\n",
       "    .colab-df-convert {\n",
       "      background-color: #E8F0FE;\n",
       "      border: none;\n",
       "      border-radius: 50%;\n",
       "      cursor: pointer;\n",
       "      display: none;\n",
       "      fill: #1967D2;\n",
       "      height: 32px;\n",
       "      padding: 0 0 0 0;\n",
       "      width: 32px;\n",
       "    }\n",
       "\n",
       "    .colab-df-convert:hover {\n",
       "      background-color: #E2EBFA;\n",
       "      box-shadow: 0px 1px 2px rgba(60, 64, 67, 0.3), 0px 1px 3px 1px rgba(60, 64, 67, 0.15);\n",
       "      fill: #174EA6;\n",
       "    }\n",
       "\n",
       "    [theme=dark] .colab-df-convert {\n",
       "      background-color: #3B4455;\n",
       "      fill: #D2E3FC;\n",
       "    }\n",
       "\n",
       "    [theme=dark] .colab-df-convert:hover {\n",
       "      background-color: #434B5C;\n",
       "      box-shadow: 0px 1px 3px 1px rgba(0, 0, 0, 0.15);\n",
       "      filter: drop-shadow(0px 1px 2px rgba(0, 0, 0, 0.3));\n",
       "      fill: #FFFFFF;\n",
       "    }\n",
       "  </style>\n",
       "\n",
       "      <script>\n",
       "        const buttonEl =\n",
       "          document.querySelector('#df-a6f1052d-587e-4524-918f-262a6aa63159 button.colab-df-convert');\n",
       "        buttonEl.style.display =\n",
       "          google.colab.kernel.accessAllowed ? 'block' : 'none';\n",
       "\n",
       "        async function convertToInteractive(key) {\n",
       "          const element = document.querySelector('#df-a6f1052d-587e-4524-918f-262a6aa63159');\n",
       "          const dataTable =\n",
       "            await google.colab.kernel.invokeFunction('convertToInteractive',\n",
       "                                                     [key], {});\n",
       "          if (!dataTable) return;\n",
       "\n",
       "          const docLinkHtml = 'Like what you see? Visit the ' +\n",
       "            '<a target=\"_blank\" href=https://colab.research.google.com/notebooks/data_table.ipynb>data table notebook</a>'\n",
       "            + ' to learn more about interactive tables.';\n",
       "          element.innerHTML = '';\n",
       "          dataTable['output_type'] = 'display_data';\n",
       "          await google.colab.output.renderOutput(dataTable, element);\n",
       "          const docLink = document.createElement('div');\n",
       "          docLink.innerHTML = docLinkHtml;\n",
       "          element.appendChild(docLink);\n",
       "        }\n",
       "      </script>\n",
       "    </div>\n",
       "  </div>\n",
       "  "
      ],
      "text/plain": [
       "            suspeitos  confirmados  media_movel_suspeitos  \\\n",
       "2020-11-01       12.0        115.0              21.714286   \n",
       "2020-11-02       17.0        197.0              20.857143   \n",
       "2020-11-03       15.0        921.0              21.571429   \n",
       "2020-11-04       18.0        705.0              18.142857   \n",
       "2020-11-05       12.0        924.0              15.428571   \n",
       "...               ...          ...                    ...   \n",
       "2021-10-27       15.0        235.0              15.000000   \n",
       "2021-10-28       11.0        229.0              14.285714   \n",
       "2021-10-29       18.0        183.0              15.285714   \n",
       "2021-10-30        9.0         85.0              13.428571   \n",
       "2021-10-31        9.0         46.0              12.142857   \n",
       "\n",
       "            media_movel_confirmados  \n",
       "2020-11-01               528.857143  \n",
       "2020-11-02               446.000000  \n",
       "2020-11-03               478.142857  \n",
       "2020-11-04               492.000000  \n",
       "2020-11-05               520.142857  \n",
       "...                             ...  \n",
       "2021-10-27               178.285714  \n",
       "2021-10-28               175.142857  \n",
       "2021-10-29               179.571429  \n",
       "2021-10-30               182.857143  \n",
       "2021-10-31               184.571429  \n",
       "\n",
       "[365 rows x 4 columns]"
      ]
     },
     "execution_count": 63,
     "metadata": {},
     "output_type": "execute_result"
    }
   ],
   "source": [
    "df_onda2 = df_corr[(df_corr.index >= dt.date(2020, 11, 1)) & (df_corr.index < dt.date(2021, 11, 1))]\n",
    "df_onda2"
   ]
  },
  {
   "cell_type": "code",
   "execution_count": null,
   "id": "Qqxg56JT2GLC",
   "metadata": {
    "colab": {
     "base_uri": "https://localhost:8080/",
     "height": 424
    },
    "executionInfo": {
     "elapsed": 7,
     "status": "ok",
     "timestamp": 1669676467352,
     "user": {
      "displayName": "ERIK SOLHA",
      "userId": "01134727171186772865"
     },
     "user_tz": 180
    },
    "id": "Qqxg56JT2GLC",
    "outputId": "31f07d56-3491-43fd-a21c-d35b73fb9a70"
   },
   "outputs": [
    {
     "data": {
      "text/html": [
       "\n",
       "  <div id=\"df-cc0bd343-2b2c-4c58-abd9-a9a0f8067ad9\">\n",
       "    <div class=\"colab-df-container\">\n",
       "      <div>\n",
       "<style scoped>\n",
       "    .dataframe tbody tr th:only-of-type {\n",
       "        vertical-align: middle;\n",
       "    }\n",
       "\n",
       "    .dataframe tbody tr th {\n",
       "        vertical-align: top;\n",
       "    }\n",
       "\n",
       "    .dataframe thead th {\n",
       "        text-align: right;\n",
       "    }\n",
       "</style>\n",
       "<table border=\"1\" class=\"dataframe\">\n",
       "  <thead>\n",
       "    <tr style=\"text-align: right;\">\n",
       "      <th></th>\n",
       "      <th>suspeitos</th>\n",
       "      <th>confirmados</th>\n",
       "      <th>media_movel_suspeitos</th>\n",
       "      <th>media_movel_confirmados</th>\n",
       "    </tr>\n",
       "  </thead>\n",
       "  <tbody>\n",
       "    <tr>\n",
       "      <th>2021-11-01</th>\n",
       "      <td>13.0</td>\n",
       "      <td>216.0</td>\n",
       "      <td>12.000000</td>\n",
       "      <td>176.714286</td>\n",
       "    </tr>\n",
       "    <tr>\n",
       "      <th>2021-11-02</th>\n",
       "      <td>15.0</td>\n",
       "      <td>75.0</td>\n",
       "      <td>12.857143</td>\n",
       "      <td>152.714286</td>\n",
       "    </tr>\n",
       "    <tr>\n",
       "      <th>2021-11-03</th>\n",
       "      <td>6.0</td>\n",
       "      <td>267.0</td>\n",
       "      <td>11.571429</td>\n",
       "      <td>157.285714</td>\n",
       "    </tr>\n",
       "    <tr>\n",
       "      <th>2021-11-04</th>\n",
       "      <td>16.0</td>\n",
       "      <td>287.0</td>\n",
       "      <td>12.285714</td>\n",
       "      <td>165.571429</td>\n",
       "    </tr>\n",
       "    <tr>\n",
       "      <th>2021-11-05</th>\n",
       "      <td>6.0</td>\n",
       "      <td>241.0</td>\n",
       "      <td>10.571429</td>\n",
       "      <td>173.857143</td>\n",
       "    </tr>\n",
       "    <tr>\n",
       "      <th>...</th>\n",
       "      <td>...</td>\n",
       "      <td>...</td>\n",
       "      <td>...</td>\n",
       "      <td>...</td>\n",
       "    </tr>\n",
       "    <tr>\n",
       "      <th>2022-04-26</th>\n",
       "      <td>16.0</td>\n",
       "      <td>96.0</td>\n",
       "      <td>20.714286</td>\n",
       "      <td>54.000000</td>\n",
       "    </tr>\n",
       "    <tr>\n",
       "      <th>2022-04-27</th>\n",
       "      <td>21.0</td>\n",
       "      <td>67.0</td>\n",
       "      <td>19.857143</td>\n",
       "      <td>49.571429</td>\n",
       "    </tr>\n",
       "    <tr>\n",
       "      <th>2022-04-28</th>\n",
       "      <td>34.0</td>\n",
       "      <td>52.0</td>\n",
       "      <td>21.142857</td>\n",
       "      <td>55.571429</td>\n",
       "    </tr>\n",
       "    <tr>\n",
       "      <th>2022-04-29</th>\n",
       "      <td>12.0</td>\n",
       "      <td>43.0</td>\n",
       "      <td>19.714286</td>\n",
       "      <td>55.428571</td>\n",
       "    </tr>\n",
       "    <tr>\n",
       "      <th>2022-04-30</th>\n",
       "      <td>10.0</td>\n",
       "      <td>17.0</td>\n",
       "      <td>19.571429</td>\n",
       "      <td>53.571429</td>\n",
       "    </tr>\n",
       "  </tbody>\n",
       "</table>\n",
       "<p>181 rows × 4 columns</p>\n",
       "</div>\n",
       "      <button class=\"colab-df-convert\" onclick=\"convertToInteractive('df-cc0bd343-2b2c-4c58-abd9-a9a0f8067ad9')\"\n",
       "              title=\"Convert this dataframe to an interactive table.\"\n",
       "              style=\"display:none;\">\n",
       "        \n",
       "  <svg xmlns=\"http://www.w3.org/2000/svg\" height=\"24px\"viewBox=\"0 0 24 24\"\n",
       "       width=\"24px\">\n",
       "    <path d=\"M0 0h24v24H0V0z\" fill=\"none\"/>\n",
       "    <path d=\"M18.56 5.44l.94 2.06.94-2.06 2.06-.94-2.06-.94-.94-2.06-.94 2.06-2.06.94zm-11 1L8.5 8.5l.94-2.06 2.06-.94-2.06-.94L8.5 2.5l-.94 2.06-2.06.94zm10 10l.94 2.06.94-2.06 2.06-.94-2.06-.94-.94-2.06-.94 2.06-2.06.94z\"/><path d=\"M17.41 7.96l-1.37-1.37c-.4-.4-.92-.59-1.43-.59-.52 0-1.04.2-1.43.59L10.3 9.45l-7.72 7.72c-.78.78-.78 2.05 0 2.83L4 21.41c.39.39.9.59 1.41.59.51 0 1.02-.2 1.41-.59l7.78-7.78 2.81-2.81c.8-.78.8-2.07 0-2.86zM5.41 20L4 18.59l7.72-7.72 1.47 1.35L5.41 20z\"/>\n",
       "  </svg>\n",
       "      </button>\n",
       "      \n",
       "  <style>\n",
       "    .colab-df-container {\n",
       "      display:flex;\n",
       "      flex-wrap:wrap;\n",
       "      gap: 12px;\n",
       "    }\n",
       "\n",
       "    .colab-df-convert {\n",
       "      background-color: #E8F0FE;\n",
       "      border: none;\n",
       "      border-radius: 50%;\n",
       "      cursor: pointer;\n",
       "      display: none;\n",
       "      fill: #1967D2;\n",
       "      height: 32px;\n",
       "      padding: 0 0 0 0;\n",
       "      width: 32px;\n",
       "    }\n",
       "\n",
       "    .colab-df-convert:hover {\n",
       "      background-color: #E2EBFA;\n",
       "      box-shadow: 0px 1px 2px rgba(60, 64, 67, 0.3), 0px 1px 3px 1px rgba(60, 64, 67, 0.15);\n",
       "      fill: #174EA6;\n",
       "    }\n",
       "\n",
       "    [theme=dark] .colab-df-convert {\n",
       "      background-color: #3B4455;\n",
       "      fill: #D2E3FC;\n",
       "    }\n",
       "\n",
       "    [theme=dark] .colab-df-convert:hover {\n",
       "      background-color: #434B5C;\n",
       "      box-shadow: 0px 1px 3px 1px rgba(0, 0, 0, 0.15);\n",
       "      filter: drop-shadow(0px 1px 2px rgba(0, 0, 0, 0.3));\n",
       "      fill: #FFFFFF;\n",
       "    }\n",
       "  </style>\n",
       "\n",
       "      <script>\n",
       "        const buttonEl =\n",
       "          document.querySelector('#df-cc0bd343-2b2c-4c58-abd9-a9a0f8067ad9 button.colab-df-convert');\n",
       "        buttonEl.style.display =\n",
       "          google.colab.kernel.accessAllowed ? 'block' : 'none';\n",
       "\n",
       "        async function convertToInteractive(key) {\n",
       "          const element = document.querySelector('#df-cc0bd343-2b2c-4c58-abd9-a9a0f8067ad9');\n",
       "          const dataTable =\n",
       "            await google.colab.kernel.invokeFunction('convertToInteractive',\n",
       "                                                     [key], {});\n",
       "          if (!dataTable) return;\n",
       "\n",
       "          const docLinkHtml = 'Like what you see? Visit the ' +\n",
       "            '<a target=\"_blank\" href=https://colab.research.google.com/notebooks/data_table.ipynb>data table notebook</a>'\n",
       "            + ' to learn more about interactive tables.';\n",
       "          element.innerHTML = '';\n",
       "          dataTable['output_type'] = 'display_data';\n",
       "          await google.colab.output.renderOutput(dataTable, element);\n",
       "          const docLink = document.createElement('div');\n",
       "          docLink.innerHTML = docLinkHtml;\n",
       "          element.appendChild(docLink);\n",
       "        }\n",
       "      </script>\n",
       "    </div>\n",
       "  </div>\n",
       "  "
      ],
      "text/plain": [
       "            suspeitos  confirmados  media_movel_suspeitos  \\\n",
       "2021-11-01       13.0        216.0              12.000000   \n",
       "2021-11-02       15.0         75.0              12.857143   \n",
       "2021-11-03        6.0        267.0              11.571429   \n",
       "2021-11-04       16.0        287.0              12.285714   \n",
       "2021-11-05        6.0        241.0              10.571429   \n",
       "...               ...          ...                    ...   \n",
       "2022-04-26       16.0         96.0              20.714286   \n",
       "2022-04-27       21.0         67.0              19.857143   \n",
       "2022-04-28       34.0         52.0              21.142857   \n",
       "2022-04-29       12.0         43.0              19.714286   \n",
       "2022-04-30       10.0         17.0              19.571429   \n",
       "\n",
       "            media_movel_confirmados  \n",
       "2021-11-01               176.714286  \n",
       "2021-11-02               152.714286  \n",
       "2021-11-03               157.285714  \n",
       "2021-11-04               165.571429  \n",
       "2021-11-05               173.857143  \n",
       "...                             ...  \n",
       "2022-04-26                54.000000  \n",
       "2022-04-27                49.571429  \n",
       "2022-04-28                55.571429  \n",
       "2022-04-29                55.428571  \n",
       "2022-04-30                53.571429  \n",
       "\n",
       "[181 rows x 4 columns]"
      ]
     },
     "execution_count": 64,
     "metadata": {},
     "output_type": "execute_result"
    }
   ],
   "source": [
    "df_onda3 = df_corr[(df_corr.index >= dt.date(2021, 11, 1)) & (df_corr.index < dt.date(2022, 5, 1))]\n",
    "df_onda3"
   ]
  },
  {
   "cell_type": "code",
   "execution_count": null,
   "id": "sOlJgIpK2UoL",
   "metadata": {
    "colab": {
     "base_uri": "https://localhost:8080/",
     "height": 424
    },
    "executionInfo": {
     "elapsed": 7,
     "status": "ok",
     "timestamp": 1669676467353,
     "user": {
      "displayName": "ERIK SOLHA",
      "userId": "01134727171186772865"
     },
     "user_tz": 180
    },
    "id": "sOlJgIpK2UoL",
    "outputId": "998f06f1-5218-4ff6-da3d-41bc8c751b27"
   },
   "outputs": [
    {
     "data": {
      "text/html": [
       "\n",
       "  <div id=\"df-b477fd94-9ba3-44d7-8a7e-3f46ff0ca02d\">\n",
       "    <div class=\"colab-df-container\">\n",
       "      <div>\n",
       "<style scoped>\n",
       "    .dataframe tbody tr th:only-of-type {\n",
       "        vertical-align: middle;\n",
       "    }\n",
       "\n",
       "    .dataframe tbody tr th {\n",
       "        vertical-align: top;\n",
       "    }\n",
       "\n",
       "    .dataframe thead th {\n",
       "        text-align: right;\n",
       "    }\n",
       "</style>\n",
       "<table border=\"1\" class=\"dataframe\">\n",
       "  <thead>\n",
       "    <tr style=\"text-align: right;\">\n",
       "      <th></th>\n",
       "      <th>suspeitos</th>\n",
       "      <th>confirmados</th>\n",
       "      <th>media_movel_suspeitos</th>\n",
       "      <th>media_movel_confirmados</th>\n",
       "    </tr>\n",
       "  </thead>\n",
       "  <tbody>\n",
       "    <tr>\n",
       "      <th>2022-05-01</th>\n",
       "      <td>13.0</td>\n",
       "      <td>10.0</td>\n",
       "      <td>18.714286</td>\n",
       "      <td>53.000000</td>\n",
       "    </tr>\n",
       "    <tr>\n",
       "      <th>2022-05-02</th>\n",
       "      <td>20.0</td>\n",
       "      <td>77.0</td>\n",
       "      <td>18.000000</td>\n",
       "      <td>51.714286</td>\n",
       "    </tr>\n",
       "    <tr>\n",
       "      <th>2022-05-03</th>\n",
       "      <td>16.0</td>\n",
       "      <td>42.0</td>\n",
       "      <td>18.000000</td>\n",
       "      <td>44.000000</td>\n",
       "    </tr>\n",
       "    <tr>\n",
       "      <th>2022-05-04</th>\n",
       "      <td>16.0</td>\n",
       "      <td>44.0</td>\n",
       "      <td>17.285714</td>\n",
       "      <td>40.714286</td>\n",
       "    </tr>\n",
       "    <tr>\n",
       "      <th>2022-05-05</th>\n",
       "      <td>19.0</td>\n",
       "      <td>48.0</td>\n",
       "      <td>15.142857</td>\n",
       "      <td>40.142857</td>\n",
       "    </tr>\n",
       "    <tr>\n",
       "      <th>...</th>\n",
       "      <td>...</td>\n",
       "      <td>...</td>\n",
       "      <td>...</td>\n",
       "      <td>...</td>\n",
       "    </tr>\n",
       "    <tr>\n",
       "      <th>2022-11-05</th>\n",
       "      <td>5.0</td>\n",
       "      <td>NaN</td>\n",
       "      <td>10.857143</td>\n",
       "      <td>NaN</td>\n",
       "    </tr>\n",
       "    <tr>\n",
       "      <th>2022-11-06</th>\n",
       "      <td>13.0</td>\n",
       "      <td>NaN</td>\n",
       "      <td>11.428571</td>\n",
       "      <td>NaN</td>\n",
       "    </tr>\n",
       "    <tr>\n",
       "      <th>2022-11-07</th>\n",
       "      <td>19.0</td>\n",
       "      <td>NaN</td>\n",
       "      <td>12.000000</td>\n",
       "      <td>NaN</td>\n",
       "    </tr>\n",
       "    <tr>\n",
       "      <th>2022-11-08</th>\n",
       "      <td>18.0</td>\n",
       "      <td>NaN</td>\n",
       "      <td>12.571429</td>\n",
       "      <td>NaN</td>\n",
       "    </tr>\n",
       "    <tr>\n",
       "      <th>2022-11-09</th>\n",
       "      <td>9.0</td>\n",
       "      <td>NaN</td>\n",
       "      <td>12.571429</td>\n",
       "      <td>NaN</td>\n",
       "    </tr>\n",
       "  </tbody>\n",
       "</table>\n",
       "<p>193 rows × 4 columns</p>\n",
       "</div>\n",
       "      <button class=\"colab-df-convert\" onclick=\"convertToInteractive('df-b477fd94-9ba3-44d7-8a7e-3f46ff0ca02d')\"\n",
       "              title=\"Convert this dataframe to an interactive table.\"\n",
       "              style=\"display:none;\">\n",
       "        \n",
       "  <svg xmlns=\"http://www.w3.org/2000/svg\" height=\"24px\"viewBox=\"0 0 24 24\"\n",
       "       width=\"24px\">\n",
       "    <path d=\"M0 0h24v24H0V0z\" fill=\"none\"/>\n",
       "    <path d=\"M18.56 5.44l.94 2.06.94-2.06 2.06-.94-2.06-.94-.94-2.06-.94 2.06-2.06.94zm-11 1L8.5 8.5l.94-2.06 2.06-.94-2.06-.94L8.5 2.5l-.94 2.06-2.06.94zm10 10l.94 2.06.94-2.06 2.06-.94-2.06-.94-.94-2.06-.94 2.06-2.06.94z\"/><path d=\"M17.41 7.96l-1.37-1.37c-.4-.4-.92-.59-1.43-.59-.52 0-1.04.2-1.43.59L10.3 9.45l-7.72 7.72c-.78.78-.78 2.05 0 2.83L4 21.41c.39.39.9.59 1.41.59.51 0 1.02-.2 1.41-.59l7.78-7.78 2.81-2.81c.8-.78.8-2.07 0-2.86zM5.41 20L4 18.59l7.72-7.72 1.47 1.35L5.41 20z\"/>\n",
       "  </svg>\n",
       "      </button>\n",
       "      \n",
       "  <style>\n",
       "    .colab-df-container {\n",
       "      display:flex;\n",
       "      flex-wrap:wrap;\n",
       "      gap: 12px;\n",
       "    }\n",
       "\n",
       "    .colab-df-convert {\n",
       "      background-color: #E8F0FE;\n",
       "      border: none;\n",
       "      border-radius: 50%;\n",
       "      cursor: pointer;\n",
       "      display: none;\n",
       "      fill: #1967D2;\n",
       "      height: 32px;\n",
       "      padding: 0 0 0 0;\n",
       "      width: 32px;\n",
       "    }\n",
       "\n",
       "    .colab-df-convert:hover {\n",
       "      background-color: #E2EBFA;\n",
       "      box-shadow: 0px 1px 2px rgba(60, 64, 67, 0.3), 0px 1px 3px 1px rgba(60, 64, 67, 0.15);\n",
       "      fill: #174EA6;\n",
       "    }\n",
       "\n",
       "    [theme=dark] .colab-df-convert {\n",
       "      background-color: #3B4455;\n",
       "      fill: #D2E3FC;\n",
       "    }\n",
       "\n",
       "    [theme=dark] .colab-df-convert:hover {\n",
       "      background-color: #434B5C;\n",
       "      box-shadow: 0px 1px 3px 1px rgba(0, 0, 0, 0.15);\n",
       "      filter: drop-shadow(0px 1px 2px rgba(0, 0, 0, 0.3));\n",
       "      fill: #FFFFFF;\n",
       "    }\n",
       "  </style>\n",
       "\n",
       "      <script>\n",
       "        const buttonEl =\n",
       "          document.querySelector('#df-b477fd94-9ba3-44d7-8a7e-3f46ff0ca02d button.colab-df-convert');\n",
       "        buttonEl.style.display =\n",
       "          google.colab.kernel.accessAllowed ? 'block' : 'none';\n",
       "\n",
       "        async function convertToInteractive(key) {\n",
       "          const element = document.querySelector('#df-b477fd94-9ba3-44d7-8a7e-3f46ff0ca02d');\n",
       "          const dataTable =\n",
       "            await google.colab.kernel.invokeFunction('convertToInteractive',\n",
       "                                                     [key], {});\n",
       "          if (!dataTable) return;\n",
       "\n",
       "          const docLinkHtml = 'Like what you see? Visit the ' +\n",
       "            '<a target=\"_blank\" href=https://colab.research.google.com/notebooks/data_table.ipynb>data table notebook</a>'\n",
       "            + ' to learn more about interactive tables.';\n",
       "          element.innerHTML = '';\n",
       "          dataTable['output_type'] = 'display_data';\n",
       "          await google.colab.output.renderOutput(dataTable, element);\n",
       "          const docLink = document.createElement('div');\n",
       "          docLink.innerHTML = docLinkHtml;\n",
       "          element.appendChild(docLink);\n",
       "        }\n",
       "      </script>\n",
       "    </div>\n",
       "  </div>\n",
       "  "
      ],
      "text/plain": [
       "            suspeitos  confirmados  media_movel_suspeitos  \\\n",
       "2022-05-01       13.0         10.0              18.714286   \n",
       "2022-05-02       20.0         77.0              18.000000   \n",
       "2022-05-03       16.0         42.0              18.000000   \n",
       "2022-05-04       16.0         44.0              17.285714   \n",
       "2022-05-05       19.0         48.0              15.142857   \n",
       "...               ...          ...                    ...   \n",
       "2022-11-05        5.0          NaN              10.857143   \n",
       "2022-11-06       13.0          NaN              11.428571   \n",
       "2022-11-07       19.0          NaN              12.000000   \n",
       "2022-11-08       18.0          NaN              12.571429   \n",
       "2022-11-09        9.0          NaN              12.571429   \n",
       "\n",
       "            media_movel_confirmados  \n",
       "2022-05-01                53.000000  \n",
       "2022-05-02                51.714286  \n",
       "2022-05-03                44.000000  \n",
       "2022-05-04                40.714286  \n",
       "2022-05-05                40.142857  \n",
       "...                             ...  \n",
       "2022-11-05                      NaN  \n",
       "2022-11-06                      NaN  \n",
       "2022-11-07                      NaN  \n",
       "2022-11-08                      NaN  \n",
       "2022-11-09                      NaN  \n",
       "\n",
       "[193 rows x 4 columns]"
      ]
     },
     "execution_count": 65,
     "metadata": {},
     "output_type": "execute_result"
    }
   ],
   "source": [
    "df_onda4 = df_corr[df_corr.index >= dt.date(2022, 5, 1)]\n",
    "df_onda4"
   ]
  },
  {
   "cell_type": "markdown",
   "id": "T12skORGrfR8",
   "metadata": {
    "id": "T12skORGrfR8"
   },
   "source": [
    "## 3.5 Correlação\n",
    "The arithmetic average of the sample, $ \\overline{X_{j}} = \\hat{\\mu}_j $, is called the sample mean and provides an estimate of the first moment of inertia:\n",
    "\n",
    "$$ \\overline{X_{j}} = \\frac{1}{N} \\sum \\limits _{t=1} ^{N} X^t_{j} $$\n",
    "\n",
    "Because $ E(\\overline{X_{j}}) = \\mu_j , \\overline{X_{j}} = \\hat{\\mu}_j $ is an unbiased estimator of $ \\mu_j $."
   ]
  },
  {
   "cell_type": "markdown",
   "id": "fvQikHFmqxyz",
   "metadata": {
    "id": "fvQikHFmqxyz"
   },
   "source": [
    "Cross-correlation between $ \\{X_i\\} $ and $ \\{X_j\\} $ is defined by the ratio of covariance to root-mean variance,\n",
    "\n",
    "$$ \\rho_{i,j} = \\frac {\\gamma_{i.j}} {\\sqrt{\\sigma^2_i \\sigma^2_j}} $$\n",
    "\n",
    "Sample covariance is found from:\n",
    "\n",
    "$$ \\hat\\gamma_{i.j} = \\frac{1}{N} \\sum \\limits _{t=1}^{N} [(X^t_{i} - \\overline{X_{i}})(X^{t}_{j} - \\overline{X_{j}})] $$\n",
    "\n",
    "Similarly, sample cross-correlation is defined by the ratio:\n",
    "\n",
    "$$ \\hat\\rho_{i.j} = \\frac {\\sum \\limits _{t=1}^{N} [(X^t_i - \\overline{X_{i}})(X^{t}_{j} - \\overline{X_{j}})]} {\\sqrt {\\sum \\limits _{t=1}^{N} ({X_{i} - \\overline{X_{i}}})^2 \\sum \\limits _{t=1}^{N} (X_{j} - \\overline{X_{j}})^2}} $$"
   ]
  },
  {
   "cell_type": "code",
   "execution_count": null,
   "id": "thUId6TRpyvO",
   "metadata": {
    "id": "thUId6TRpyvO"
   },
   "outputs": [],
   "source": [
    "# Pearson correlation function\n",
    "def pearson_corr(x, y):\n",
    "    N = len(x)\n",
    "    num = 0\n",
    "    sigma_x = 0\n",
    "    sigma_y = 0\n",
    "    for t in range(N):\n",
    "        num = num + (x[t] - x.mean()) * (y[t] - y.mean())\n",
    "        sigma_x = sigma_x + (x[t] - x.mean())**2\n",
    "        sigma_y = sigma_y + (y[t] - y.mean())**2    \n",
    "    sigma_x = math.sqrt(sigma_x)\n",
    "    sigma_y = math.sqrt(sigma_y)\n",
    "    den = sigma_x * sigma_y\n",
    "    return num / den\n",
    " \n",
    "# Pearson correlation as cross-correlation function\n",
    "def pearson_as_ccf(x, y):\n",
    "    rho_list = []\n",
    "    for t in range(len(x)):\n",
    "        rho = pearson_corr(x, np.roll(y, t))\n",
    "        rho_list.append(rho)\n",
    "    return rho_list\n",
    "\n",
    "def get_max_corr(x, y):\n",
    "    n = x.shape[0]\n",
    "    rho = np.ndarray(n)\n",
    "    for t in range(n):\n",
    "        rho[t] = pearson_corr(x, np.roll(y, t))\n",
    "    plt.plot(rho)\n",
    "    idx = np.argmax(rho)\n",
    "    val = rho[idx]\n",
    "    return idx, val"
   ]
  },
  {
   "cell_type": "code",
   "execution_count": null,
   "id": "NnwTUD3stCdf",
   "metadata": {
    "id": "NnwTUD3stCdf"
   },
   "outputs": [],
   "source": [
    "df_corr['corr'] = pearson_as_ccf(df_corr['media_movel_suspeitos'], df_corr['media_movel_confirmados'])"
   ]
  },
  {
   "cell_type": "code",
   "execution_count": null,
   "id": "dQBwgCKqt10K",
   "metadata": {
    "colab": {
     "base_uri": "https://localhost:8080/",
     "height": 282
    },
    "executionInfo": {
     "elapsed": 2502,
     "status": "ok",
     "timestamp": 1669676676805,
     "user": {
      "displayName": "ERIK SOLHA",
      "userId": "01134727171186772865"
     },
     "user_tz": 180
    },
    "id": "dQBwgCKqt10K",
    "outputId": "4e3bbeb5-f579-472e-8950-ab7c5a9289d6"
   },
   "outputs": [
    {
     "data": {
      "text/plain": [
       "(72, 0.7822610077417027)"
      ]
     },
     "execution_count": 68,
     "metadata": {},
     "output_type": "execute_result"
    },
    {
     "data": {
      "image/png": "[encoded data removed]",
      "text/plain": [
       "<Figure size 432x288 with 1 Axes>"
      ]
     },
     "metadata": {
      "needs_background": "light"
     },
     "output_type": "display_data"
    }
   ],
   "source": [
    "get_max_corr(df_onda1['media_movel_confirmados'].to_numpy(), df_onda1['media_movel_suspeitos'].to_numpy())"
   ]
  },
  {
   "cell_type": "code",
   "execution_count": null,
   "id": "DWFVk_Vb4hMs",
   "metadata": {
    "colab": {
     "base_uri": "https://localhost:8080/",
     "height": 282
    },
    "executionInfo": {
     "elapsed": 3665,
     "status": "ok",
     "timestamp": 1669676680456,
     "user": {
      "displayName": "ERIK SOLHA",
      "userId": "01134727171186772865"
     },
     "user_tz": 180
    },
    "id": "DWFVk_Vb4hMs",
    "outputId": "88e4ee18-59f6-4dee-c6aa-fe1948770637"
   },
   "outputs": [
    {
     "data": {
      "text/plain": [
       "(25, 0.9088638007232487)"
      ]
     },
     "execution_count": 69,
     "metadata": {},
     "output_type": "execute_result"
    },
    {
     "data": {
      "image/png": "[encoded data removed]",
      "text/plain": [
       "<Figure size 432x288 with 1 Axes>"
      ]
     },
     "metadata": {
      "needs_background": "light"
     },
     "output_type": "display_data"
    }
   ],
   "source": [
    "get_max_corr(df_onda2['media_movel_confirmados'].to_numpy(), df_onda2['media_movel_suspeitos'].to_numpy())"
   ]
  },
  {
   "cell_type": "code",
   "execution_count": null,
   "id": "Ce1-Qhfc4j_L",
   "metadata": {
    "colab": {
     "base_uri": "https://localhost:8080/",
     "height": 282
    },
    "executionInfo": {
     "elapsed": 1098,
     "status": "ok",
     "timestamp": 1669676681532,
     "user": {
      "displayName": "ERIK SOLHA",
      "userId": "01134727171186772865"
     },
     "user_tz": 180
    },
    "id": "Ce1-Qhfc4j_L",
    "outputId": "f56d8f9d-31f9-4914-996e-73446c1af455"
   },
   "outputs": [
    {
     "data": {
      "text/plain": [
       "(22, 0.8053255450669553)"
      ]
     },
     "execution_count": 70,
     "metadata": {},
     "output_type": "execute_result"
    },
    {
     "data": {
      "image/png": "[encoded data removed]",
      "text/plain": [
       "<Figure size 432x288 with 1 Axes>"
      ]
     },
     "metadata": {
      "needs_background": "light"
     },
     "output_type": "display_data"
    }
   ],
   "source": [
    "get_max_corr(df_onda3['media_movel_confirmados'].to_numpy(), df_onda3['media_movel_suspeitos'].to_numpy())"
   ]
  },
  {
   "cell_type": "code",
   "execution_count": null,
   "id": "hJPu4t-H4luD",
   "metadata": {
    "colab": {
     "base_uri": "https://localhost:8080/",
     "height": 282
    },
    "executionInfo": {
     "elapsed": 1205,
     "status": "ok",
     "timestamp": 1669676682733,
     "user": {
      "displayName": "ERIK SOLHA",
      "userId": "01134727171186772865"
     },
     "user_tz": 180
    },
    "id": "hJPu4t-H4luD",
    "outputId": "6dbcb338-a535-46da-d436-c554b3fde97d"
   },
   "outputs": [
    {
     "data": {
      "text/plain": [
       "(0, nan)"
      ]
     },
     "execution_count": 71,
     "metadata": {},
     "output_type": "execute_result"
    },
    {
     "data": {
      "image/png": "[encoded data removed]",
      "text/plain": [
       "<Figure size 432x288 with 1 Axes>"
      ]
     },
     "metadata": {
      "needs_background": "light"
     },
     "output_type": "display_data"
    }
   ],
   "source": [
    "get_max_corr(df_onda4['media_movel_confirmados'].to_numpy(), df_onda4['media_movel_suspeitos'].to_numpy())"
   ]
  },
  {
   "cell_type": "code",
   "execution_count": null,
   "id": "gVnC_pjftMuK",
   "metadata": {
    "colab": {
     "base_uri": "https://localhost:8080/"
    },
    "executionInfo": {
     "elapsed": 10,
     "status": "ok",
     "timestamp": 1669676682735,
     "user": {
      "displayName": "ERIK SOLHA",
      "userId": "01134727171186772865"
     },
     "user_tz": 180
    },
    "id": "gVnC_pjftMuK",
    "outputId": "348ff659-44d7-441e-825f-d2c8df02112d"
   },
   "outputs": [
    {
     "name": "stdout",
     "output_type": "stream",
     "text": [
      "<class 'pandas.core.frame.DataFrame'>\n",
      "Index: 1044 entries, 2020-01-01 to 2022-11-09\n",
      "Data columns (total 5 columns):\n",
      " #   Column                   Non-Null Count  Dtype  \n",
      "---  ------                   --------------  -----  \n",
      " 0   suspeitos                1043 non-null   float64\n",
      " 1   confirmados              884 non-null    float64\n",
      " 2   media_movel_suspeitos    1044 non-null   float64\n",
      " 3   media_movel_confirmados  930 non-null    float64\n",
      " 4   corr                     0 non-null      float64\n",
      "dtypes: float64(5)\n",
      "memory usage: 48.9+ KB\n"
     ]
    }
   ],
   "source": [
    "df_corr.info()"
   ]
  },
  {
   "cell_type": "code",
   "execution_count": null,
   "id": "G68IN0SagLKA",
   "metadata": {
    "colab": {
     "base_uri": "https://localhost:8080/",
     "height": 424
    },
    "executionInfo": {
     "elapsed": 383,
     "status": "ok",
     "timestamp": 1669676999029,
     "user": {
      "displayName": "ERIK SOLHA",
      "userId": "01134727171186772865"
     },
     "user_tz": 180
    },
    "id": "G68IN0SagLKA",
    "outputId": "1957d24a-4ef2-416f-9e4d-530c38063ab6"
   },
   "outputs": [
    {
     "data": {
      "text/html": [
       "\n",
       "  <div id=\"df-b4782a75-13fe-4ab8-a92f-0621c48e740f\">\n",
       "    <div class=\"colab-df-container\">\n",
       "      <div>\n",
       "<style scoped>\n",
       "    .dataframe tbody tr th:only-of-type {\n",
       "        vertical-align: middle;\n",
       "    }\n",
       "\n",
       "    .dataframe tbody tr th {\n",
       "        vertical-align: top;\n",
       "    }\n",
       "\n",
       "    .dataframe thead th {\n",
       "        text-align: right;\n",
       "    }\n",
       "</style>\n",
       "<table border=\"1\" class=\"dataframe\">\n",
       "  <thead>\n",
       "    <tr style=\"text-align: right;\">\n",
       "      <th></th>\n",
       "      <th>suspeitos</th>\n",
       "      <th>confirmados</th>\n",
       "      <th>media_movel_suspeitos</th>\n",
       "      <th>media_movel_confirmados</th>\n",
       "      <th>corr</th>\n",
       "    </tr>\n",
       "  </thead>\n",
       "  <tbody>\n",
       "    <tr>\n",
       "      <th>2020-01-01</th>\n",
       "      <td>11.0</td>\n",
       "      <td>1.0</td>\n",
       "      <td>11.000000</td>\n",
       "      <td>1.0</td>\n",
       "      <td>NaN</td>\n",
       "    </tr>\n",
       "    <tr>\n",
       "      <th>2020-01-02</th>\n",
       "      <td>11.0</td>\n",
       "      <td>2.0</td>\n",
       "      <td>11.000000</td>\n",
       "      <td>1.5</td>\n",
       "      <td>NaN</td>\n",
       "    </tr>\n",
       "    <tr>\n",
       "      <th>2020-01-03</th>\n",
       "      <td>15.0</td>\n",
       "      <td>NaN</td>\n",
       "      <td>12.333333</td>\n",
       "      <td>1.5</td>\n",
       "      <td>NaN</td>\n",
       "    </tr>\n",
       "    <tr>\n",
       "      <th>2020-01-04</th>\n",
       "      <td>14.0</td>\n",
       "      <td>3.0</td>\n",
       "      <td>12.750000</td>\n",
       "      <td>2.0</td>\n",
       "      <td>NaN</td>\n",
       "    </tr>\n",
       "    <tr>\n",
       "      <th>2020-01-05</th>\n",
       "      <td>14.0</td>\n",
       "      <td>2.0</td>\n",
       "      <td>13.000000</td>\n",
       "      <td>2.0</td>\n",
       "      <td>NaN</td>\n",
       "    </tr>\n",
       "    <tr>\n",
       "      <th>...</th>\n",
       "      <td>...</td>\n",
       "      <td>...</td>\n",
       "      <td>...</td>\n",
       "      <td>...</td>\n",
       "      <td>...</td>\n",
       "    </tr>\n",
       "    <tr>\n",
       "      <th>2022-11-05</th>\n",
       "      <td>5.0</td>\n",
       "      <td>NaN</td>\n",
       "      <td>10.857143</td>\n",
       "      <td>NaN</td>\n",
       "      <td>NaN</td>\n",
       "    </tr>\n",
       "    <tr>\n",
       "      <th>2022-11-06</th>\n",
       "      <td>13.0</td>\n",
       "      <td>NaN</td>\n",
       "      <td>11.428571</td>\n",
       "      <td>NaN</td>\n",
       "      <td>NaN</td>\n",
       "    </tr>\n",
       "    <tr>\n",
       "      <th>2022-11-07</th>\n",
       "      <td>19.0</td>\n",
       "      <td>NaN</td>\n",
       "      <td>12.000000</td>\n",
       "      <td>NaN</td>\n",
       "      <td>NaN</td>\n",
       "    </tr>\n",
       "    <tr>\n",
       "      <th>2022-11-08</th>\n",
       "      <td>18.0</td>\n",
       "      <td>NaN</td>\n",
       "      <td>12.571429</td>\n",
       "      <td>NaN</td>\n",
       "      <td>NaN</td>\n",
       "    </tr>\n",
       "    <tr>\n",
       "      <th>2022-11-09</th>\n",
       "      <td>9.0</td>\n",
       "      <td>NaN</td>\n",
       "      <td>12.571429</td>\n",
       "      <td>NaN</td>\n",
       "      <td>NaN</td>\n",
       "    </tr>\n",
       "  </tbody>\n",
       "</table>\n",
       "<p>1044 rows × 5 columns</p>\n",
       "</div>\n",
       "      <button class=\"colab-df-convert\" onclick=\"convertToInteractive('df-b4782a75-13fe-4ab8-a92f-0621c48e740f')\"\n",
       "              title=\"Convert this dataframe to an interactive table.\"\n",
       "              style=\"display:none;\">\n",
       "        \n",
       "  <svg xmlns=\"http://www.w3.org/2000/svg\" height=\"24px\"viewBox=\"0 0 24 24\"\n",
       "       width=\"24px\">\n",
       "    <path d=\"M0 0h24v24H0V0z\" fill=\"none\"/>\n",
       "    <path d=\"M18.56 5.44l.94 2.06.94-2.06 2.06-.94-2.06-.94-.94-2.06-.94 2.06-2.06.94zm-11 1L8.5 8.5l.94-2.06 2.06-.94-2.06-.94L8.5 2.5l-.94 2.06-2.06.94zm10 10l.94 2.06.94-2.06 2.06-.94-2.06-.94-.94-2.06-.94 2.06-2.06.94z\"/><path d=\"M17.41 7.96l-1.37-1.37c-.4-.4-.92-.59-1.43-.59-.52 0-1.04.2-1.43.59L10.3 9.45l-7.72 7.72c-.78.78-.78 2.05 0 2.83L4 21.41c.39.39.9.59 1.41.59.51 0 1.02-.2 1.41-.59l7.78-7.78 2.81-2.81c.8-.78.8-2.07 0-2.86zM5.41 20L4 18.59l7.72-7.72 1.47 1.35L5.41 20z\"/>\n",
       "  </svg>\n",
       "      </button>\n",
       "      \n",
       "  <style>\n",
       "    .colab-df-container {\n",
       "      display:flex;\n",
       "      flex-wrap:wrap;\n",
       "      gap: 12px;\n",
       "    }\n",
       "\n",
       "    .colab-df-convert {\n",
       "      background-color: #E8F0FE;\n",
       "      border: none;\n",
       "      border-radius: 50%;\n",
       "      cursor: pointer;\n",
       "      display: none;\n",
       "      fill: #1967D2;\n",
       "      height: 32px;\n",
       "      padding: 0 0 0 0;\n",
       "      width: 32px;\n",
       "    }\n",
       "\n",
       "    .colab-df-convert:hover {\n",
       "      background-color: #E2EBFA;\n",
       "      box-shadow: 0px 1px 2px rgba(60, 64, 67, 0.3), 0px 1px 3px 1px rgba(60, 64, 67, 0.15);\n",
       "      fill: #174EA6;\n",
       "    }\n",
       "\n",
       "    [theme=dark] .colab-df-convert {\n",
       "      background-color: #3B4455;\n",
       "      fill: #D2E3FC;\n",
       "    }\n",
       "\n",
       "    [theme=dark] .colab-df-convert:hover {\n",
       "      background-color: #434B5C;\n",
       "      box-shadow: 0px 1px 3px 1px rgba(0, 0, 0, 0.15);\n",
       "      filter: drop-shadow(0px 1px 2px rgba(0, 0, 0, 0.3));\n",
       "      fill: #FFFFFF;\n",
       "    }\n",
       "  </style>\n",
       "\n",
       "      <script>\n",
       "        const buttonEl =\n",
       "          document.querySelector('#df-b4782a75-13fe-4ab8-a92f-0621c48e740f button.colab-df-convert');\n",
       "        buttonEl.style.display =\n",
       "          google.colab.kernel.accessAllowed ? 'block' : 'none';\n",
       "\n",
       "        async function convertToInteractive(key) {\n",
       "          const element = document.querySelector('#df-b4782a75-13fe-4ab8-a92f-0621c48e740f');\n",
       "          const dataTable =\n",
       "            await google.colab.kernel.invokeFunction('convertToInteractive',\n",
       "                                                     [key], {});\n",
       "          if (!dataTable) return;\n",
       "\n",
       "          const docLinkHtml = 'Like what you see? Visit the ' +\n",
       "            '<a target=\"_blank\" href=https://colab.research.google.com/notebooks/data_table.ipynb>data table notebook</a>'\n",
       "            + ' to learn more about interactive tables.';\n",
       "          element.innerHTML = '';\n",
       "          dataTable['output_type'] = 'display_data';\n",
       "          await google.colab.output.renderOutput(dataTable, element);\n",
       "          const docLink = document.createElement('div');\n",
       "          docLink.innerHTML = docLinkHtml;\n",
       "          element.appendChild(docLink);\n",
       "        }\n",
       "      </script>\n",
       "    </div>\n",
       "  </div>\n",
       "  "
      ],
      "text/plain": [
       "            suspeitos  confirmados  media_movel_suspeitos  \\\n",
       "2020-01-01       11.0          1.0              11.000000   \n",
       "2020-01-02       11.0          2.0              11.000000   \n",
       "2020-01-03       15.0          NaN              12.333333   \n",
       "2020-01-04       14.0          3.0              12.750000   \n",
       "2020-01-05       14.0          2.0              13.000000   \n",
       "...               ...          ...                    ...   \n",
       "2022-11-05        5.0          NaN              10.857143   \n",
       "2022-11-06       13.0          NaN              11.428571   \n",
       "2022-11-07       19.0          NaN              12.000000   \n",
       "2022-11-08       18.0          NaN              12.571429   \n",
       "2022-11-09        9.0          NaN              12.571429   \n",
       "\n",
       "            media_movel_confirmados  corr  \n",
       "2020-01-01                      1.0   NaN  \n",
       "2020-01-02                      1.5   NaN  \n",
       "2020-01-03                      1.5   NaN  \n",
       "2020-01-04                      2.0   NaN  \n",
       "2020-01-05                      2.0   NaN  \n",
       "...                             ...   ...  \n",
       "2022-11-05                      NaN   NaN  \n",
       "2022-11-06                      NaN   NaN  \n",
       "2022-11-07                      NaN   NaN  \n",
       "2022-11-08                      NaN   NaN  \n",
       "2022-11-09                      NaN   NaN  \n",
       "\n",
       "[1044 rows x 5 columns]"
      ]
     },
     "execution_count": 79,
     "metadata": {},
     "output_type": "execute_result"
    }
   ],
   "source": [
    "df_corr"
   ]
  },
  {
   "cell_type": "markdown",
   "id": "HblMKgY85l2g",
   "metadata": {
    "id": "HblMKgY85l2g"
   },
   "source": [
    "# 4 Plotando"
   ]
  },
  {
   "cell_type": "code",
   "execution_count": null,
   "id": "I6xal5_E5kyL",
   "metadata": {
    "colab": {
     "base_uri": "https://localhost:8080/"
    },
    "executionInfo": {
     "elapsed": 1297,
     "status": "ok",
     "timestamp": 1669676708562,
     "user": {
      "displayName": "ERIK SOLHA",
      "userId": "01134727171186772865"
     },
     "user_tz": 180
    },
    "id": "I6xal5_E5kyL",
    "outputId": "eda2d828-5739-4432-e8ae-517d1c23b3a1"
   },
   "outputs": [
    {
     "data": {
      "image/png": "[encoded data removed]",
      "text/plain": [
       "<Figure size 1026x718.2 with 2 Axes>"
      ]
     },
     "metadata": {
      "needs_background": "light"
     },
     "output_type": "display_data"
    }
   ],
   "source": [
    "figx = 3.42 #3.42, 4.5, 7\n",
    "figy = (7/10) * figx\n",
    "\n",
    "\n",
    "fig, ax = plt.subplots(dpi = 300, figsize=(figx,figy))\n",
    "\n",
    "ax.plot(df_onda1.index, np.roll(df_onda1['media_movel_suspeitos'].to_numpy(), 72), color = '#D55E00')\n",
    "y2 = ax.twinx()\n",
    "y2.plot(df_onda1['media_movel_confirmados'])\n",
    "\n",
    "ax.tick_params(axis = 'x', labelrotation=90)"
   ]
  },
  {
   "cell_type": "code",
   "execution_count": null,
   "id": "Hz4k0L4k5kub",
   "metadata": {
    "colab": {
     "base_uri": "https://localhost:8080/"
    },
    "executionInfo": {
     "elapsed": 1375,
     "status": "ok",
     "timestamp": 1669676709933,
     "user": {
      "displayName": "ERIK SOLHA",
      "userId": "01134727171186772865"
     },
     "user_tz": 180
    },
    "id": "Hz4k0L4k5kub",
    "outputId": "a150d2e6-d743-474b-af06-de2685654431"
   },
   "outputs": [
    {
     "data": {
      "image/png": "[encoded data removed]",
      "text/plain": [
       "<Figure size 1026x718.2 with 2 Axes>"
      ]
     },
     "metadata": {
      "needs_background": "light"
     },
     "output_type": "display_data"
    }
   ],
   "source": [
    "figx = 3.42 #3.42, 4.5, 7\n",
    "figy = (7/10) * figx\n",
    "\n",
    "\n",
    "fig, ax = plt.subplots(dpi = 300, figsize=(figx,figy))\n",
    "\n",
    "ax.plot(df_onda2.index, np.roll(df_onda2['media_movel_suspeitos'].to_numpy(), 25), color = '#D55E00')\n",
    "y2 = ax.twinx()\n",
    "y2.plot(df_onda2['media_movel_confirmados'])\n",
    "\n",
    "ax.tick_params(axis = 'x', labelrotation=90)"
   ]
  },
  {
   "cell_type": "code",
   "execution_count": null,
   "id": "4_wCNCA_5kqw",
   "metadata": {
    "colab": {
     "base_uri": "https://localhost:8080/"
    },
    "executionInfo": {
     "elapsed": 10,
     "status": "ok",
     "timestamp": 1669676709934,
     "user": {
      "displayName": "ERIK SOLHA",
      "userId": "01134727171186772865"
     },
     "user_tz": 180
    },
    "id": "4_wCNCA_5kqw",
    "outputId": "569370d5-6d6b-48b6-e343-f90244951b51"
   },
   "outputs": [
    {
     "data": {
      "image/png": "[encoded data removed]",
      "text/plain": [
       "<Figure size 1026x718.2 with 2 Axes>"
      ]
     },
     "metadata": {
      "needs_background": "light"
     },
     "output_type": "display_data"
    }
   ],
   "source": [
    "figx = 3.42 #3.42, 4.5, 7\n",
    "figy = (7/10) * figx\n",
    "\n",
    "\n",
    "fig, ax = plt.subplots(dpi = 300, figsize=(figx,figy))\n",
    "\n",
    "ax.plot(df_onda3.index, np.roll(df_onda3['media_movel_suspeitos'].to_numpy(), 22), color = '#D55E00')\n",
    "y2 = ax.twinx()\n",
    "y2.plot(df_onda3['media_movel_confirmados'])\n",
    "\n",
    "ax.tick_params(axis = 'x', labelrotation=90)"
   ]
  },
  {
   "cell_type": "code",
   "execution_count": null,
   "id": "n0ZpBhK75km6",
   "metadata": {
    "colab": {
     "base_uri": "https://localhost:8080/"
    },
    "executionInfo": {
     "elapsed": 10,
     "status": "ok",
     "timestamp": 1669676709935,
     "user": {
      "displayName": "ERIK SOLHA",
      "userId": "01134727171186772865"
     },
     "user_tz": 180
    },
    "id": "n0ZpBhK75km6",
    "outputId": "a56e6887-74b6-4101-f0e6-0ee3472dc038"
   },
   "outputs": [
    {
     "data": {
      "image/png": "[encoded data removed]",
      "text/plain": [
       "<Figure size 1026x718.2 with 2 Axes>"
      ]
     },
     "metadata": {
      "needs_background": "light"
     },
     "output_type": "display_data"
    }
   ],
   "source": [
    "figx = 3.42 #3.42, 4.5, 7\n",
    "figy = (7/10) * figx\n",
    "\n",
    "\n",
    "fig, ax = plt.subplots(dpi = 300, figsize=(figx,figy))\n",
    "\n",
    "ax.plot(df_onda4.index, np.roll(df_onda4['media_movel_suspeitos'].to_numpy(), 71), color = '#D55E00')\n",
    "y2 = ax.twinx()\n",
    "y2.plot(df_onda4['media_movel_confirmados'])\n",
    "\n",
    "ax.tick_params(axis = 'x', labelrotation=90)"
   ]
  }
 ],
 "metadata": {
  "colab": {
   "collapsed_sections": [
    "upcq6Vut2gt4",
    "T12skORGrfR8",
    "HblMKgY85l2g"
   ],
   "provenance": []
  },
  "kernelspec": {
   "display_name": "Python 3 (ipykernel)",
   "language": "python",
   "name": "python3"
  },
  "language_info": {
   "codemirror_mode": {
    "name": "ipython",
    "version": 3
   },
   "file_extension": ".py",
   "mimetype": "text/x-python",
   "name": "python",
   "nbconvert_exporter": "python",
   "pygments_lexer": "ipython3",
   "version": "3.11.2"
  }
 },
 "nbformat": 4,
 "nbformat_minor": 5
}
